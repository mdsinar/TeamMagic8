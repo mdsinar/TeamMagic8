{
 "cells": [
  {
   "cell_type": "code",
   "execution_count": 1,
   "id": "8246c1ff",
   "metadata": {},
   "outputs": [],
   "source": [
    "import matplotlib.pyplot as plt\n",
    "import numpy as np\n",
    "import pandas as pd\n",
    "from sklearn import  preprocessing\n",
    "from sklearn.model_selection import train_test_split\n",
    "import warnings\n",
    "warnings.filterwarnings('ignore')\n",
    "\n",
    "from qiskit import Aer\n",
    "from qiskit.algorithms.optimizers import SPSA, COBYLA, GradientDescent\n",
    "from qiskit.circuit.library import TwoLocal, ZZFeatureMap, ZFeatureMap\n",
    "from qiskit.opflow import StateFn, Gradient, I, Z\n",
    "from qiskit.utils import QuantumInstance\n",
    "\n",
    "from qiskit_machine_learning.algorithms.classifiers import NeuralNetworkClassifier\n",
    "from qiskit_machine_learning.neural_networks import CircuitQNN, OpflowQNN\n",
    "from qiskit_machine_learning.utils.loss_functions import L2Loss, CrossEntropyLoss"
   ]
  },
  {
   "cell_type": "markdown",
   "id": "bc6c7fbf",
   "metadata": {},
   "source": [
    "# Create the data"
   ]
  },
  {
   "cell_type": "code",
   "execution_count": 2,
   "id": "c7064b03",
   "metadata": {},
   "outputs": [],
   "source": [
    "df = pd.read_csv('survey.csv') # read csv file as pandas data frame"
   ]
  },
  {
   "cell_type": "code",
   "execution_count": 3,
   "id": "03e877df",
   "metadata": {},
   "outputs": [
    {
     "data": {
      "text/plain": [
       "['Timestamp',\n",
       " 'Age',\n",
       " 'Gender',\n",
       " 'Country',\n",
       " 'state',\n",
       " 'self_employed',\n",
       " 'family_history',\n",
       " 'treatment',\n",
       " 'work_interfere',\n",
       " 'no_employees',\n",
       " 'remote_work',\n",
       " 'tech_company',\n",
       " 'benefits',\n",
       " 'care_options',\n",
       " 'wellness_program',\n",
       " 'seek_help',\n",
       " 'anonymity',\n",
       " 'leave',\n",
       " 'mental_health_consequence',\n",
       " 'phys_health_consequence',\n",
       " 'coworkers',\n",
       " 'supervisor',\n",
       " 'mental_health_interview',\n",
       " 'phys_health_interview',\n",
       " 'mental_vs_physical',\n",
       " 'obs_consequence',\n",
       " 'comments']"
      ]
     },
     "execution_count": 3,
     "metadata": {},
     "output_type": "execute_result"
    }
   ],
   "source": [
    "feature_name_list = list(df)\n",
    "list(feature_name_list)"
   ]
  },
  {
   "cell_type": "code",
   "execution_count": 4,
   "id": "1cc16d03",
   "metadata": {},
   "outputs": [
    {
     "data": {
      "text/html": [
       "<div>\n",
       "<style scoped>\n",
       "    .dataframe tbody tr th:only-of-type {\n",
       "        vertical-align: middle;\n",
       "    }\n",
       "\n",
       "    .dataframe tbody tr th {\n",
       "        vertical-align: top;\n",
       "    }\n",
       "\n",
       "    .dataframe thead th {\n",
       "        text-align: right;\n",
       "    }\n",
       "</style>\n",
       "<table border=\"1\" class=\"dataframe\">\n",
       "  <thead>\n",
       "    <tr style=\"text-align: right;\">\n",
       "      <th></th>\n",
       "      <th>Age</th>\n",
       "      <th>Gender</th>\n",
       "      <th>treatment</th>\n",
       "    </tr>\n",
       "  </thead>\n",
       "  <tbody>\n",
       "    <tr>\n",
       "      <th>0</th>\n",
       "      <td>37</td>\n",
       "      <td>Female</td>\n",
       "      <td>Yes</td>\n",
       "    </tr>\n",
       "    <tr>\n",
       "      <th>1</th>\n",
       "      <td>44</td>\n",
       "      <td>M</td>\n",
       "      <td>No</td>\n",
       "    </tr>\n",
       "    <tr>\n",
       "      <th>2</th>\n",
       "      <td>32</td>\n",
       "      <td>Male</td>\n",
       "      <td>No</td>\n",
       "    </tr>\n",
       "    <tr>\n",
       "      <th>3</th>\n",
       "      <td>31</td>\n",
       "      <td>Male</td>\n",
       "      <td>Yes</td>\n",
       "    </tr>\n",
       "    <tr>\n",
       "      <th>4</th>\n",
       "      <td>31</td>\n",
       "      <td>Male</td>\n",
       "      <td>No</td>\n",
       "    </tr>\n",
       "    <tr>\n",
       "      <th>...</th>\n",
       "      <td>...</td>\n",
       "      <td>...</td>\n",
       "      <td>...</td>\n",
       "    </tr>\n",
       "    <tr>\n",
       "      <th>1254</th>\n",
       "      <td>26</td>\n",
       "      <td>male</td>\n",
       "      <td>Yes</td>\n",
       "    </tr>\n",
       "    <tr>\n",
       "      <th>1255</th>\n",
       "      <td>32</td>\n",
       "      <td>Male</td>\n",
       "      <td>Yes</td>\n",
       "    </tr>\n",
       "    <tr>\n",
       "      <th>1256</th>\n",
       "      <td>34</td>\n",
       "      <td>male</td>\n",
       "      <td>Yes</td>\n",
       "    </tr>\n",
       "    <tr>\n",
       "      <th>1257</th>\n",
       "      <td>46</td>\n",
       "      <td>f</td>\n",
       "      <td>No</td>\n",
       "    </tr>\n",
       "    <tr>\n",
       "      <th>1258</th>\n",
       "      <td>25</td>\n",
       "      <td>Male</td>\n",
       "      <td>Yes</td>\n",
       "    </tr>\n",
       "  </tbody>\n",
       "</table>\n",
       "<p>1259 rows × 3 columns</p>\n",
       "</div>"
      ],
      "text/plain": [
       "      Age  Gender treatment\n",
       "0      37  Female       Yes\n",
       "1      44       M        No\n",
       "2      32    Male        No\n",
       "3      31    Male       Yes\n",
       "4      31    Male        No\n",
       "...   ...     ...       ...\n",
       "1254   26    male       Yes\n",
       "1255   32    Male       Yes\n",
       "1256   34    male       Yes\n",
       "1257   46       f        No\n",
       "1258   25    Male       Yes\n",
       "\n",
       "[1259 rows x 3 columns]"
      ]
     },
     "execution_count": 4,
     "metadata": {},
     "output_type": "execute_result"
    }
   ],
   "source": [
    "df_selected = df[[ 'Age', 'Gender','treatment']] # Choose desired features and labels(classes)\n",
    "df_selected"
   ]
  },
  {
   "cell_type": "code",
   "execution_count": 5,
   "id": "1089c751",
   "metadata": {},
   "outputs": [
    {
     "name": "stdout",
     "output_type": "stream",
     "text": [
      "\u001b[1mTotal empty values in the Dataset :\u001b[0m 0\n"
     ]
    }
   ],
   "source": [
    "print('\\033[1m' + 'Total empty values in the Dataset :' + '\\033[0m' , df_selected.isnull().sum().sum())"
   ]
  },
  {
   "cell_type": "code",
   "execution_count": 6,
   "id": "16bea91f",
   "metadata": {},
   "outputs": [
    {
     "name": "stdout",
     "output_type": "stream",
     "text": [
      "\u001b[1mUnique values in Age :\u001b[0m 53\n",
      "\u001b[1mUnique values in Gender :\u001b[0m 49\n",
      "\u001b[1mUnique values in treatment :\u001b[0m 2\n"
     ]
    }
   ],
   "source": [
    "    for col in df_selected.columns:\n",
    "        print('\\033[1m' + 'Unique values in {} :'.format(col) + '\\033[0m',len(df_selected[col].unique()))"
   ]
  },
  {
   "cell_type": "code",
   "execution_count": 7,
   "id": "4ccc00e3",
   "metadata": {},
   "outputs": [
    {
     "name": "stdout",
     "output_type": "stream",
     "text": [
      "\u001b[1mUnique values in updated Gender column :\u001b[0m ['Female' 'M' 'Male' 'male' 'female' 'm' 'Male-ish' 'maile' 'Trans-female'\n",
      " 'Cis Female' 'F' 'something kinda male?' 'Cis Male' 'Woman' 'f' 'Mal'\n",
      " 'Male (CIS)' 'queer/she/they' 'non-binary' 'Femake' 'woman' 'Make' 'Nah'\n",
      " 'All' 'Enby' 'fluid' 'Genderqueer' 'Female ' 'Androgyne' 'Agender'\n",
      " 'cis-female/femme' 'Guy (-ish) ^_^' 'male leaning androgynous' 'Male '\n",
      " 'Man' 'Trans woman' 'msle' 'Neuter' 'Female (trans)' 'queer'\n",
      " 'Female (cis)' 'Mail' 'cis male' 'A little about you' 'Malr' 'p' 'femail'\n",
      " 'Cis Man' 'ostensibly male, unsure what that really means']\n",
      "\u001b[1mRange of column Age :\u001b[0m (-1726, 99999999999)\n",
      "\u001b[1mUnique values in treatment column :\u001b[0m ['Yes' 'No']\n"
     ]
    }
   ],
   "source": [
    "print('\\033[1m' + 'Unique values in updated Gender column :' + '\\033[0m', df_selected.Gender.unique())\n",
    "print('\\033[1m' + 'Range of column Age :' + '\\033[0m', (df_selected.Age.min(), df_selected.Age.max()))\n",
    "print('\\033[1m' + 'Unique values in treatment column :' + '\\033[0m', df_selected.treatment.unique())"
   ]
  },
  {
   "cell_type": "code",
   "execution_count": 8,
   "id": "258f1eec",
   "metadata": {},
   "outputs": [],
   "source": [
    "# Feature label encoding \n",
    "\n",
    "age = []\n",
    "for i in df_selected.Age:\n",
    "    if (i<18) or (i>99):\n",
    "        age.append(31)   # Assign 31 as Median age\n",
    "    else:\n",
    "        age.append(i)\n",
    "\n",
    "df_selected['Age'] = age\n",
    "\n",
    "other  = ['A little about you', 'p', 'Nah', 'Enby', 'Trans-female','something kinda male?','queer/she/they','non-binary','All','fluid', 'Genderqueer','Androgyne', 'Agender','Guy (-ish) ^_^', 'male leaning androgynous','Trans woman','Neuter', 'Female (trans)','queer','ostensibly male, unsure what that really means','trans']\n",
    "male   = ['male', 'Male','M', 'm', 'Male-ish', 'maile','Cis Male','Mal', 'Male (CIS)','Make','Male ', 'Man', 'msle','cis male', 'Cis Man','Malr','Mail']\n",
    "female = ['Female', 'female','Cis Female', 'F','f','Femake', 'woman','Female ','cis-female/femme','Female (cis)','femail','Woman','female']\n",
    "\n",
    "df_selected['Gender'].replace(to_replace = other, value = 3, inplace=True)\n",
    "df_selected['Gender'].replace(to_replace = male, value = 1, inplace=True)\n",
    "df_selected['Gender'].replace(to_replace = female, value = 2, inplace=True)\n",
    "df_selected['treatment'].replace(to_replace = 'Yes', value = 1, inplace=True)\n",
    "df_selected['treatment'].replace(to_replace = 'No', value = 0, inplace=True)"
   ]
  },
  {
   "cell_type": "code",
   "execution_count": 9,
   "id": "50599945",
   "metadata": {},
   "outputs": [
    {
     "name": "stdout",
     "output_type": "stream",
     "text": [
      "\u001b[1mUnique values in updated Gender column :\u001b[0m [2 1 3]\n",
      "\u001b[1mAge range:\u001b[0m (18, 72)\n",
      "\u001b[1mUnique values in updated treatment column :\u001b[0m [1 0]\n"
     ]
    }
   ],
   "source": [
    "print('\\033[1m' + 'Unique values in updated Gender column :' + '\\033[0m', df_selected.Gender.unique())\n",
    "print('\\033[1m' + 'Age range:' + '\\033[0m', (df_selected.Age.min(), df_selected.Age.max()))\n",
    "print('\\033[1m' + 'Unique values in updated treatment column :' + '\\033[0m', df_selected.treatment.unique())"
   ]
  },
  {
   "cell_type": "code",
   "execution_count": 10,
   "id": "815f5378",
   "metadata": {},
   "outputs": [
    {
     "name": "stdout",
     "output_type": "stream",
     "text": [
      "\u001b[1mNumber of unique values in Age :\u001b[0m 45\n",
      "\u001b[1mNumber of unique values in Gender :\u001b[0m 3\n",
      "\u001b[1mNumber of unique values in treatment :\u001b[0m 2\n"
     ]
    }
   ],
   "source": [
    "for col in df_selected.columns:\n",
    "    print('\\033[1m' + 'Number of unique values in {} :'.format(col) + '\\033[0m',len(df_selected[col].unique()))"
   ]
  },
  {
   "cell_type": "code",
   "execution_count": 21,
   "id": "fb570b4e",
   "metadata": {},
   "outputs": [],
   "source": [
    "# Define features and labels (that contin class information)\n",
    "test_ratio = 0.2\n",
    "seed = 0\n",
    "X = np.array(df_selected.drop('treatment', axis =1)) # X contains all feature values as array\n",
    "y = np.array(df_selected.treatment) # y contains class values as array\n",
    "x_train, x_test, y_train, y_test = train_test_split(X, y, test_size=test_ratio, random_state=seed, stratify=y)"
   ]
  },
  {
   "cell_type": "markdown",
   "id": "471e41d8",
   "metadata": {},
   "source": [
    "# Data embedding circuits"
   ]
  },
  {
   "cell_type": "code",
   "execution_count": 25,
   "id": "452552dd",
   "metadata": {},
   "outputs": [
    {
     "data": {
      "image/png": "[encoded data removed]",
      "text/plain": [
       "<Figure size 650.476x101.136 with 1 Axes>"
      ]
     },
     "execution_count": 25,
     "metadata": {},
     "output_type": "execute_result"
    }
   ],
   "source": [
    "feature_dim = X.shape[1]\n",
    "feature_map_rep = 2\n",
    "ent = 'linear'\n",
    "\n",
    "fmap_zz = ZZFeatureMap(feature_dimension=feature_dim, reps=feature_map_rep, entanglement=ent)\n",
    "fmap_zz.decompose().draw('mpl', scale=0.7)"
   ]
  },
  {
   "cell_type": "code",
   "execution_count": 26,
   "id": "5f02ab1f",
   "metadata": {},
   "outputs": [
    {
     "data": {
      "image/png": "[encoded data removed]",
      "text/plain": [
       "<Figure size 650.476x101.136 with 1 Axes>"
      ]
     },
     "execution_count": 26,
     "metadata": {},
     "output_type": "execute_result"
    }
   ],
   "source": [
    "fmap_zz.assign_parameters({k:v for (k,v) in zip(fmap_zz.parameters, x_train[0])}).decompose().draw('mpl', scale=0.7)"
   ]
  },
  {
   "cell_type": "markdown",
   "id": "a00167ec",
   "metadata": {},
   "source": [
    "# Anstaz"
   ]
  },
  {
   "cell_type": "code",
   "execution_count": 28,
   "id": "f410a072",
   "metadata": {},
   "outputs": [
    {
     "data": {
      "image/png": "[encoded data removed]",
      "text/plain": [
       "<Figure size 397.636x101.136 with 1 Axes>"
      ]
     },
     "execution_count": 28,
     "metadata": {},
     "output_type": "execute_result"
    }
   ],
   "source": [
    "rotations = ['ry', 'rz']\n",
    "var_form_rep = 2\n",
    "\n",
    "\n",
    "ansatz_tl = TwoLocal(num_qubits=feature_dim, rotation_blocks=rotations, entanglement_blocks='cx', entanglement=ent, reps=var_form_rep)\n",
    "ansatz_tl.decompose().draw('mpl', scale=0.7)"
   ]
  },
  {
   "cell_type": "code",
   "execution_count": 29,
   "id": "d9527e1c",
   "metadata": {},
   "outputs": [
    {
     "data": {
      "image/png": "[encoded data removed]",
      "text/plain": [
       "<Figure size 903.316x101.136 with 1 Axes>"
      ]
     },
     "execution_count": 29,
     "metadata": {},
     "output_type": "execute_result"
    }
   ],
   "source": [
    "weights = np.random.random(len(ansatz_tl.parameters))\n",
    "ansatz_tl.assign_parameters({k:v for (k,v) in zip(ansatz_tl.parameters, weights)}).decompose().draw('mpl', scale=0.7)"
   ]
  },
  {
   "cell_type": "markdown",
   "id": "7e8f6c31",
   "metadata": {},
   "source": [
    "# Quantum Neural Network"
   ]
  },
  {
   "cell_type": "markdown",
   "id": "5b5e8ff4",
   "metadata": {},
   "source": [
    "## CircuitQNN"
   ]
  },
  {
   "cell_type": "code",
   "execution_count": 30,
   "id": "157c80d0",
   "metadata": {},
   "outputs": [
    {
     "data": {
      "image/png": "[encoded data removed]",
      "text/plain": [
       "<Figure size 688.452x144.48 with 1 Axes>"
      ]
     },
     "execution_count": 30,
     "metadata": {},
     "output_type": "execute_result"
    }
   ],
   "source": [
    "var_circuit = fmap_zz.compose(ansatz_tl)\n",
    "var_circuit.draw('mpl')"
   ]
  },
  {
   "cell_type": "code",
   "execution_count": 31,
   "id": "b213d479",
   "metadata": {},
   "outputs": [],
   "source": [
    "def parity(x, num_classes):\n",
    "    return f\"{x:b}\".count(\"1\") % num_classes\n",
    "\n",
    "def one_qubit_binary(x):\n",
    "    return x % 2"
   ]
  },
  {
   "cell_type": "code",
   "execution_count": 33,
   "id": "9a8c9e96",
   "metadata": {},
   "outputs": [],
   "source": [
    "qasm_sim = Aer.get_backend('qasm_simulator')\n",
    "qinst = QuantumInstance(qasm_sim, 2048)"
   ]
  },
  {
   "cell_type": "code",
   "execution_count": 34,
   "id": "4603dfb1",
   "metadata": {},
   "outputs": [],
   "source": [
    "num_classes = 2\n",
    "qnn = CircuitQNN(circuit=var_circuit,\n",
    "                 input_params=fmap_zz.parameters,  # if your embedding strategy is not a parametrized circuit \n",
    "                                                   # (e.g. amplitude encoding) you will have to do some extra work!\n",
    "                 weight_params=ansatz_tl.parameters,  # if you train your embedding as well, the trainable\n",
    "                                                      # parameters of the embedding must be added\n",
    "                 interpret=one_qubit_binary,\n",
    "                 output_shape=num_classes,\n",
    "                 gradient=None,\n",
    "                 quantum_instance=qinst)"
   ]
  },
  {
   "cell_type": "markdown",
   "id": "694331d5",
   "metadata": {},
   "source": [
    "### Forward pass"
   ]
  },
  {
   "cell_type": "code",
   "execution_count": 36,
   "id": "f352570b",
   "metadata": {},
   "outputs": [
    {
     "name": "stdout",
     "output_type": "stream",
     "text": [
      "(1, 2)\n"
     ]
    },
    {
     "data": {
      "text/plain": [
       "array([[0.20019531, 0.79980469]])"
      ]
     },
     "execution_count": 36,
     "metadata": {},
     "output_type": "execute_result"
    }
   ],
   "source": [
    "# The result of the neural network of the shape (output_shape).\n",
    "output = qnn.forward(x_train[0], weights)\n",
    "print(output.shape)\n",
    "output"
   ]
  },
  {
   "cell_type": "markdown",
   "id": "61630684",
   "metadata": {},
   "source": [
    "### Backward pass"
   ]
  },
  {
   "cell_type": "code",
   "execution_count": 38,
   "id": "2a8c2bdd",
   "metadata": {},
   "outputs": [
    {
     "data": {
      "text/plain": [
       "array([[[-0.27050781,  0.07666016,  0.04370117,  0.1340332 ,\n",
       "         -0.06201172,  0.01025391,  0.00756836, -0.06225586,\n",
       "          0.03295898,  0.00488281,  0.00854492,  0.00146484],\n",
       "        [ 0.27050781, -0.07666016, -0.04370117, -0.1340332 ,\n",
       "          0.06201172, -0.01025391, -0.00756836,  0.06225586,\n",
       "         -0.03295898, -0.00488281, -0.00854492, -0.00146484]]])"
      ]
     },
     "execution_count": 38,
     "metadata": {},
     "output_type": "execute_result"
    }
   ],
   "source": [
    "# The result of the neural network of the backward pass, i.e., a tuple with the gradients\n",
    "# for input and weights of shape (output_shape, num_input) and\n",
    "# (output_shape, num_weights), respectively.\n",
    "_, update = qnn.backward(x_train[0], weights)\n",
    "update"
   ]
  },
  {
   "cell_type": "markdown",
   "id": "cf2bd744",
   "metadata": {},
   "source": [
    "## OpflowQNN"
   ]
  },
  {
   "cell_type": "code",
   "execution_count": 39,
   "id": "7194ce50",
   "metadata": {},
   "outputs": [
    {
     "data": {
      "text/plain": [
       "PauliOp(Pauli('IZ'), coeff=1.0)"
      ]
     },
     "execution_count": 39,
     "metadata": {},
     "output_type": "execute_result"
    }
   ],
   "source": [
    "obs_parity = Z ^ feature_dim\n",
    "obs_one_qubit = I ^ (feature_dim - 1) ^ Z\n",
    "obs_one_qubit"
   ]
  },
  {
   "cell_type": "code",
   "execution_count": 40,
   "id": "673a8594",
   "metadata": {},
   "outputs": [
    {
     "data": {
      "text/plain": [
       "ComposedOp([OperatorStateFn(PauliOp(Pauli('IZ'), coeff=1.0), coeff=1.0, is_measurement=True), CircuitStateFn(<qiskit.circuit.library.data_preparation.zz_feature_map.ZZFeatureMap object at 0x7f78defe1588>, coeff=1.0, is_measurement=False)], coeff=1.0, abelian=False)"
      ]
     },
     "execution_count": 40,
     "metadata": {},
     "output_type": "execute_result"
    }
   ],
   "source": [
    "# For an introduction to the Opflow module, see\n",
    "# https://github.com/Qiskit/qiskit-tutorials/blob/master/tutorials/operators/01_operator_flow.ipynb\n",
    "operator = ~StateFn(obs_one_qubit) @ StateFn(var_circuit)\n",
    "operator"
   ]
  },
  {
   "cell_type": "code",
   "execution_count": 41,
   "id": "bba22c1e",
   "metadata": {},
   "outputs": [],
   "source": [
    "gradient = Gradient(grad_method=\"param_shift\")\n",
    "op_qnn = OpflowQNN(operator,\n",
    "                   input_params=fmap_zz.parameters,\n",
    "                   weight_params=ansatz_tl.parameters,\n",
    "                   gradient=gradient,\n",
    "                   quantum_instance=qinst)"
   ]
  },
  {
   "cell_type": "markdown",
   "id": "e4ef5546",
   "metadata": {},
   "source": [
    "### Forward pass"
   ]
  },
  {
   "cell_type": "code",
   "execution_count": 43,
   "id": "9b7cf164",
   "metadata": {},
   "outputs": [
    {
     "name": "stdout",
     "output_type": "stream",
     "text": [
      "(1, 1)\n"
     ]
    },
    {
     "data": {
      "text/plain": [
       "array([[-0.61035156]])"
      ]
     },
     "execution_count": 43,
     "metadata": {},
     "output_type": "execute_result"
    }
   ],
   "source": [
    "output = op_qnn.forward(x_train[0], weights)\n",
    "print(output.shape)\n",
    "output"
   ]
  },
  {
   "cell_type": "markdown",
   "id": "be17e5b2",
   "metadata": {},
   "source": [
    "### Backward pass"
   ]
  },
  {
   "cell_type": "code",
   "execution_count": 46,
   "id": "8cbc2b8d",
   "metadata": {},
   "outputs": [
    {
     "name": "stdout",
     "output_type": "stream",
     "text": [
      "(1, 1, 12)\n"
     ]
    },
    {
     "data": {
      "text/plain": [
       "array([[[-0.52978516,  0.17773438,  0.10205078,  0.27587891,\n",
       "         -0.13720703,  0.03662109, -0.00683594, -0.09375   ,\n",
       "          0.09033203,  0.01708984,  0.00439453, -0.00732422]]])"
      ]
     },
     "execution_count": 46,
     "metadata": {},
     "output_type": "execute_result"
    }
   ],
   "source": [
    "_, update = op_qnn.backward(x_train[0], weights)\n",
    "print(update.shape)\n",
    "update"
   ]
  },
  {
   "cell_type": "markdown",
   "id": "14babc7f",
   "metadata": {},
   "source": [
    "# Train a Neural Network Classifier with CircuitQNN"
   ]
  },
  {
   "cell_type": "code",
   "execution_count": 47,
   "id": "302e2a35",
   "metadata": {},
   "outputs": [],
   "source": [
    "def get_one_hot_encoding(y):\n",
    "    unique_labels = np.unique(y, axis=0)\n",
    "    y_one_hot = [(np.eye(len(unique_labels))[np.where(unique_labels == y_i)]).reshape(len(unique_labels)) for y_i in y]\n",
    "\n",
    "    return np.array(y_one_hot)\n",
    "\n",
    "y_train_1h = get_one_hot_encoding(y_train)\n",
    "y_test_1h = get_one_hot_encoding(y_test)"
   ]
  },
  {
   "cell_type": "code",
   "execution_count": 48,
   "id": "3f6d025e",
   "metadata": {},
   "outputs": [],
   "source": [
    "def callback(nfev, params, fval, stepsize, accepted=None):\n",
    "    \"\"\"\n",
    "    Can be used for SPSA and GradientDescent optimizers\n",
    "    nfev: the number of function evals\n",
    "    params: the current parameters\n",
    "    fval: the current function value\n",
    "    stepsize: size of the update step\n",
    "    accepted: whether the step was accepted (not used for )\n",
    "    \"\"\"\n",
    "    global loss_recorder\n",
    "\n",
    "    loss_recorder.append(fval)\n",
    "    print(f'{nfev} - {fval}')"
   ]
  },
  {
   "cell_type": "code",
   "execution_count": 50,
   "id": "ead18252",
   "metadata": {},
   "outputs": [
    {
     "name": "stdout",
     "output_type": "stream",
     "text": [
      "3 - 1238.8160029273658\n",
      "6 - 1105.699969717439\n",
      "9 - 1103.8471960149602\n",
      "12 - 1087.1651203655317\n",
      "15 - 998.942913801754\n",
      "18 - 998.7947533683329\n",
      "21 - 999.9462042969628\n",
      "24 - 999.5868073379602\n",
      "27 - 1000.1811492832605\n",
      "30 - 998.2143420435004\n",
      "33 - 998.7126327321449\n",
      "36 - 997.4813006846783\n",
      "39 - 998.4611984095814\n",
      "42 - 998.0548591952358\n",
      "45 - 999.379831628513\n",
      "48 - 998.1864372092567\n",
      "51 - 999.4824757956089\n",
      "54 - 997.6021845709323\n",
      "57 - 997.540874535275\n",
      "60 - 997.4873037485211\n",
      "63 - 996.7636219424867\n",
      "66 - 997.9304240787903\n",
      "69 - 998.9470159272436\n",
      "72 - 997.4296944285245\n",
      "75 - 999.695167099525\n",
      "78 - 1000.7951935604651\n",
      "81 - 1000.0386948134732\n",
      "84 - 999.6259285555522\n",
      "87 - 999.8116140519485\n",
      "90 - 999.1299086667993\n",
      "93 - 999.0611831603826\n",
      "96 - 997.6559597689641\n",
      "99 - 997.4431685730742\n",
      "102 - 998.3258280366572\n",
      "105 - 996.4684288315134\n",
      "108 - 997.8099226976071\n",
      "111 - 998.6982490364089\n",
      "114 - 998.0328189544917\n",
      "117 - 997.4289686084596\n",
      "120 - 997.3344596882473\n",
      "123 - 998.7310331967427\n",
      "126 - 997.6720806628688\n",
      "129 - 996.9558980645054\n",
      "132 - 998.5155959184208\n",
      "135 - 997.6725432705076\n",
      "138 - 998.071257201339\n",
      "141 - 997.5395619015949\n",
      "144 - 997.141255606834\n",
      "147 - 997.8997601397061\n",
      "150 - 999.1067311709741\n"
     ]
    }
   ],
   "source": [
    "max_itr = 50\n",
    "spsa_opt = SPSA(maxiter=max_itr, callback=callback)\n",
    "loss_recorder = []\n",
    "initial_point = np.random.random((len(ansatz_tl.parameters),))\n",
    "vqc = NeuralNetworkClassifier(neural_network=qnn,\n",
    "                              loss=CrossEntropyLoss(),\n",
    "                              one_hot=True,\n",
    "                              optimizer=spsa_opt,\n",
    "                              initial_point=initial_point)\n",
    "\n",
    "\n",
    "x_train_norm = np.array([x/np.linalg.norm(x) for x in x_train])\n",
    "x_test_norm = np.array([x/np.linalg.norm(x) for x in x_test])\n",
    "\n",
    "vqc = vqc.fit(x_train_norm, y_train_1h)"
   ]
  },
  {
   "cell_type": "code",
   "execution_count": 51,
   "id": "6c6af53e",
   "metadata": {},
   "outputs": [
    {
     "name": "stdout",
     "output_type": "stream",
     "text": [
      "Score on the train set 0.48758689175769615\n",
      "Score on the test set 0.5357142857142857\n"
     ]
    }
   ],
   "source": [
    "score_train = vqc.score(x_train_norm, y_train_1h)\n",
    "score_test = vqc.score(x_test_norm, y_test_1h)\n",
    "print(f'Score on the train set {score_train}')\n",
    "print(f'Score on the test set {score_test}')"
   ]
  },
  {
   "cell_type": "code",
   "execution_count": 52,
   "id": "2cfdb49a",
   "metadata": {},
   "outputs": [
    {
     "data": {
      "text/plain": [
       "[<matplotlib.lines.Line2D at 0x7f7969a3e828>]"
      ]
     },
     "execution_count": 52,
     "metadata": {},
     "output_type": "execute_result"
    },
    {
     "data": {
      "image/png": "[encoded data removed]",
      "text/plain": [
       "<Figure size 432x288 with 1 Axes>"
      ]
     },
     "metadata": {
      "needs_background": "light"
     },
     "output_type": "display_data"
    }
   ],
   "source": [
    "plt.plot(loss_recorder)"
   ]
  },
  {
   "cell_type": "markdown",
   "id": "27cca4cd",
   "metadata": {},
   "source": [
    "# Train a Neural Network Classifier with OpflowQNN and Gradient Descent"
   ]
  },
  {
   "cell_type": "code",
   "execution_count": 53,
   "id": "17bd65d6",
   "metadata": {},
   "outputs": [
    {
     "data": {
      "text/plain": [
       "(1007,)"
      ]
     },
     "execution_count": 53,
     "metadata": {},
     "output_type": "execute_result"
    }
   ],
   "source": [
    "y_train_pm = np.array([-1 if y==0 else y for y in y_train])\n",
    "y_test_pm = np.array([-1 if y==0 else y for y in y_test])\n",
    "y_train.shape"
   ]
  },
  {
   "cell_type": "code",
   "execution_count": 54,
   "id": "850591a3",
   "metadata": {},
   "outputs": [
    {
     "name": "stdout",
     "output_type": "stream",
     "text": [
      "1 - 1156.9786386489868\n",
      "2 - 1133.451862335205\n",
      "3 - 1181.2949352264404\n",
      "4 - 1288.8717184066772\n",
      "5 - 1287.4318761825562\n",
      "6 - 1196.5431051254272\n",
      "7 - 1132.8619813919067\n",
      "8 - 1276.2540645599365\n",
      "9 - 1359.6065044403076\n",
      "10 - 1087.3072519302368\n"
     ]
    }
   ],
   "source": [
    "max_itr = 10\n",
    "gd_opt = GradientDescent(maxiter=max_itr, callback=callback)\n",
    "loss_recorder = []\n",
    "initial_point = np.random.random((len(ansatz_tl.parameters),))\n",
    "op_vqc = NeuralNetworkClassifier(neural_network=op_qnn,\n",
    "                                 loss=L2Loss(),\n",
    "                                 one_hot=False,\n",
    "                                 optimizer=gd_opt,\n",
    "                                 initial_point=initial_point)\n",
    "\n",
    "op_vqc = op_vqc.fit(x_train, y_train_pm)"
   ]
  },
  {
   "cell_type": "code",
   "execution_count": 55,
   "id": "d2a98ad5",
   "metadata": {},
   "outputs": [
    {
     "name": "stdout",
     "output_type": "stream",
     "text": [
      "Score on the train set 0.5074478649453823\n",
      "Score on the test set 0.49603174603174605\n"
     ]
    }
   ],
   "source": [
    "score_train = op_vqc.score(x_train, y_train_pm)\n",
    "score_test = op_vqc.score(x_test, y_test_pm)\n",
    "print(f'Score on the train set {score_train}')\n",
    "print(f'Score on the test set {score_test}')"
   ]
  },
  {
   "cell_type": "code",
   "execution_count": 56,
   "id": "846f7ccb",
   "metadata": {},
   "outputs": [
    {
     "data": {
      "text/plain": [
       "[<matplotlib.lines.Line2D at 0x7f79b7a4d710>]"
      ]
     },
     "execution_count": 56,
     "metadata": {},
     "output_type": "execute_result"
    },
    {
     "data": {
      "image/png": "[encoded data removed]",
      "text/plain": [
       "<Figure size 432x288 with 1 Axes>"
      ]
     },
     "metadata": {
      "needs_background": "light"
     },
     "output_type": "display_data"
    }
   ],
   "source": [
    "plt.plot(loss_recorder)"
   ]
  },
  {
   "cell_type": "code",
   "execution_count": null,
   "id": "ab66cfb5",
   "metadata": {},
   "outputs": [],
   "source": []
  }
 ],
 "metadata": {
  "kernelspec": {
   "display_name": "venv",
   "language": "python",
   "name": "venv"
  },
  "language_info": {
   "codemirror_mode": {
    "name": "ipython",
    "version": 3
   },
   "file_extension": ".py",
   "mimetype": "text/x-python",
   "name": "python",
   "nbconvert_exporter": "python",
   "pygments_lexer": "ipython3",
   "version": "3.6.9"
  },
  "varInspector": {
   "cols": {
    "lenName": 16,
    "lenType": 16,
    "lenVar": 40
   },
   "kernels_config": {
    "python": {
     "delete_cmd_postfix": "",
     "delete_cmd_prefix": "del ",
     "library": "var_list.py",
     "varRefreshCmd": "print(var_dic_list())"
    },
    "r": {
     "delete_cmd_postfix": ") ",
     "delete_cmd_prefix": "rm(",
     "library": "var_list.r",
     "varRefreshCmd": "cat(var_dic_list()) "
    }
   },
   "position": {
    "height": "147.05px",
    "left": "1126.8px",
    "right": "20px",
    "top": "120px",
    "width": "350px"
   },
   "types_to_exclude": [
    "module",
    "function",
    "builtin_function_or_method",
    "instance",
    "_Feature"
   ],
   "window_display": true
  }
 },
 "nbformat": 4,
 "nbformat_minor": 5
}
