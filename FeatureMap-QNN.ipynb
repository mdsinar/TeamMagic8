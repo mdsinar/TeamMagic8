{
 "cells": [
  {
   "cell_type": "code",
   "execution_count": null,
   "metadata": {},
   "outputs": [
    {
     "ename": "",
     "evalue": "",
     "output_type": "error",
     "traceback": [
      "\u001b[1;31mFailed to start the Kernel. \n",
      "Failed to start the Kernel 'workshop-qml (Python 3.9.7)'. \n",
      "View Jupyter <a href='command:jupyter.viewOutput'>log</a> for further details. spawn C:\\Users\\dogan\\.conda\\envs\\workshop-qml\\python.exe ENOENT"
     ]
    }
   ],
   "source": [
    "#Extracts data from CSV file\n",
    "#Creates paramterized feature map and ansatz\n",
    "#Utilizes quantum neural network for training and SPSA for optimization\n",
    "\n",
    "from cProfile import label\n",
    "from turtle import color\n",
    "import numpy as np\n",
    "import math\n",
    "import matplotlib.pyplot as plt\n",
    "\n",
    "from qiskit import Aer, QuantumCircuit, assemble\n",
    "from qiskit.circuit import ParameterVector, Parameter\n",
    "from qiskit.utils import QuantumInstance\n",
    "from qiskit.algorithms.optimizers import SPSA\n",
    "from qiskit.circuit.library import ZFeatureMap, ZZFeatureMap, PauliFeatureMap, TwoLocal\n",
    "#from qiskit_machine_learning.kernels import QuantumKernel\n",
    "from qiskit_machine_learning.neural_networks import CircuitQNN, OpflowQNN\n",
    "from qiskit_machine_learning.utils.loss_functions import L2Loss, CrossEntropyLoss\n",
    "from qiskit_machine_learning.algorithms.classifiers import NeuralNetworkClassifier\n",
    "\n",
    "from sklearn.model_selection import train_test_split\n",
    "from sklearn.svm import SVC\n",
    "from sympy import rotations"
   ]
  },
  {
   "cell_type": "code",
   "execution_count": null,
   "metadata": {},
   "outputs": [
    {
     "ename": "",
     "evalue": "",
     "output_type": "error",
     "traceback": [
      "\u001b[1;31mFailed to start the Kernel. \n",
      "Failed to start the Kernel 'workshop-qml (Python 3.9.7)'. \n",
      "View Jupyter <a href='command:jupyter.viewOutput'>log</a> for further details. spawn C:\\Users\\dogan\\.conda\\envs\\workshop-qml\\python.exe ENOENT"
     ]
    }
   ],
   "source": [
    "data_file = open(\"SomeData.csv\")                    #Reads data from csv file\n",
    "data_array = np.loadtxt(data_file, delimiter=\",\")   #Creates array from sample data\n",
    "sample_size, nb_features = data_array.shape         #Gathers sample size and feature size values from data array\n",
    "\n",
    "\n",
    "#Need some sort of a classification in place, so we can \"classifiy\". Update this code to create classification for our data.\n",
    "labels = [0, 1]\n",
    "y = (data_array[:,1] > 0.5).astype(int)     #Assigns label 1 or 0, depending on data value being larger than 0.5 or not.\n",
    "#print(y)\n",
    "\n",
    "x_train, x_test, y_train, y_test = train_test_split(data_array, y, test_size=0.2)   #Splits data_array 80:20 between train and test\n",
    "print(x_test)\n",
    "print(y_test)"
   ]
  },
  {
   "cell_type": "code",
   "execution_count": null,
   "metadata": {},
   "outputs": [
    {
     "ename": "",
     "evalue": "",
     "output_type": "error",
     "traceback": [
      "\u001b[1;31mFailed to start the Kernel. \n",
      "Failed to start the Kernel 'workshop-qml (Python 3.9.7)'. \n",
      "View Jupyter <a href='command:jupyter.viewOutput'>log</a> for further details. spawn C:\\Users\\dogan\\.conda\\envs\\workshop-qml\\python.exe ENOENT"
     ]
    }
   ],
   "source": [
    "#Preps the backend and the quantum instance\n",
    "sim = Aer.get_backend('aer_simulator')\n",
    "shots = 8092\n",
    "qinst = QuantumInstance(sim, shots)"
   ]
  },
  {
   "cell_type": "code",
   "execution_count": null,
   "metadata": {},
   "outputs": [
    {
     "ename": "",
     "evalue": "",
     "output_type": "error",
     "traceback": [
      "\u001b[1;31mFailed to start the Kernel. \n",
      "Failed to start the Kernel 'workshop-qml (Python 3.9.7)'. \n",
      "View Jupyter <a href='command:jupyter.viewOutput'>log</a> for further details. spawn C:\\Users\\dogan\\.conda\\envs\\workshop-qml\\python.exe ENOENT"
     ]
    }
   ],
   "source": [
    "#Puts together the feature map\n",
    "map_z = ZZFeatureMap(feature_dimension=nb_features, reps=2, entanglement='linear')\n",
    "map_z.assign_parameters({k:v for (k,v) in zip(map_z.parameters, x_train[0])}).decompose().draw('mpl', scale=0.7)"
   ]
  },
  {
   "cell_type": "code",
   "execution_count": null,
   "metadata": {},
   "outputs": [
    {
     "ename": "",
     "evalue": "",
     "output_type": "error",
     "traceback": [
      "\u001b[1;31mFailed to start the Kernel. \n",
      "Failed to start the Kernel 'workshop-qml (Python 3.9.7)'. \n",
      "View Jupyter <a href='command:jupyter.viewOutput'>log</a> for further details. spawn C:\\Users\\dogan\\.conda\\envs\\workshop-qml\\python.exe ENOENT"
     ]
    }
   ],
   "source": [
    "#Puts together the ansatz\n",
    "def get_two_locals(nb_features, rotations, var_form_rep, ent):\n",
    "    return TwoLocal(num_qubits=nb_features, rotation_blocks=rotations, entanglement_blocks='cx', entanglement=ent, reps=var_form_rep)\n",
    "\n",
    "ansatz= get_two_locals(nb_features, ['ry', 'rz'], 2, 'linear')\n",
    "#ansatz.decompose().draw('mpl', scale=0.7)\n",
    "weights = np.random.random(len(ansatz.parameters))  #Assigns weights, it oftens initiated as random numbers\n",
    "ansatz.assign_parameters({k:v for (k,v) in zip(ansatz.parameters, weights)}).decompose().draw('mpl', scale=0.7)"
   ]
  },
  {
   "cell_type": "code",
   "execution_count": null,
   "metadata": {},
   "outputs": [
    {
     "ename": "",
     "evalue": "",
     "output_type": "error",
     "traceback": [
      "\u001b[1;31mFailed to start the Kernel. \n",
      "Failed to start the Kernel 'workshop-qml (Python 3.9.7)'. \n",
      "View Jupyter <a href='command:jupyter.viewOutput'>log</a> for further details. spawn C:\\Users\\dogan\\.conda\\envs\\workshop-qml\\python.exe ENOENT"
     ]
    }
   ],
   "source": [
    "#Quantum Neural Network training happens here\n",
    "var_circuit = map_z.compose(ansatz)\n",
    "var_circuit.draw('mpl')\n",
    "#plt.show()\n",
    "\n",
    "def parity(x, num_classes):\n",
    "    return f\"{x:b}\".count(\"1\") % num_classes\n",
    "\n",
    "def one_qubit_binary(x):\n",
    "    return x % 2\n",
    "\n",
    "num_classes = 2\n",
    "qnn = CircuitQNN(circuit = var_circuit,\n",
    "                input_params=map_z.parameters,\n",
    "                weight_params=ansatz.parameters,\n",
    "                interpret=one_qubit_binary,\n",
    "                output_shape=num_classes,\n",
    "                gradient=None,\n",
    "                quantum_instance=qinst)\n",
    "\n",
    "output = qnn.forward(x_train[0], weights)   #Forward pass\n",
    "#print(output.shape)\n",
    "\n",
    "_, update = qnn.backward(x_train[0], weights)   #Backward pass"
   ]
  },
  {
   "cell_type": "code",
   "execution_count": null,
   "metadata": {},
   "outputs": [
    {
     "ename": "",
     "evalue": "",
     "output_type": "error",
     "traceback": [
      "\u001b[1;31mFailed to start the Kernel. \n",
      "Failed to start the Kernel 'workshop-qml (Python 3.9.7)'. \n",
      "View Jupyter <a href='command:jupyter.viewOutput'>log</a> for further details. spawn C:\\Users\\dogan\\.conda\\envs\\workshop-qml\\python.exe ENOENT"
     ]
    }
   ],
   "source": [
    "#Training Section\n",
    "\n",
    "#One hot encoding. If you want to know about this encoding, pls google. It is not an arbitrary encoding method, it is used a lot in ML\n",
    "def get_one_hot_encoding(y):\n",
    "    unique_labels = np.unique(y, axis=0)\n",
    "    y_one_hot = [(np.eye(len(unique_labels))[np.where(unique_labels == y_i)]).reshape(len(unique_labels)) for y_i in y]\n",
    "\n",
    "    return np.array(y_one_hot)\n",
    "\n",
    "y_train_1h = get_one_hot_encoding(y_train)\n",
    "y_test_1h = get_one_hot_encoding(y_test)"
   ]
  },
  {
   "cell_type": "code",
   "execution_count": null,
   "metadata": {},
   "outputs": [
    {
     "ename": "",
     "evalue": "",
     "output_type": "error",
     "traceback": [
      "\u001b[1;31mFailed to start the Kernel. \n",
      "Failed to start the Kernel 'workshop-qml (Python 3.9.7)'. \n",
      "View Jupyter <a href='command:jupyter.viewOutput'>log</a> for further details. spawn C:\\Users\\dogan\\.conda\\envs\\workshop-qml\\python.exe ENOENT"
     ]
    }
   ],
   "source": [
    "#This function can create a checkpoint in case we hit the optimal point before the maximum iteration is reached. It is unused right now.\n",
    "def callback(nfev, params, fval, stepsize, accepted=None):\n",
    "    global loss_recorder\n",
    "\n",
    "    loss_recorder.append(fval)\n",
    "    print(f'{nfev} - {fval}')"
   ]
  },
  {
   "cell_type": "code",
   "execution_count": null,
   "metadata": {},
   "outputs": [
    {
     "ename": "",
     "evalue": "",
     "output_type": "error",
     "traceback": [
      "\u001b[1;31mFailed to start the Kernel. \n",
      "Failed to start the Kernel 'workshop-qml (Python 3.9.7)'. \n",
      "View Jupyter <a href='command:jupyter.viewOutput'>log</a> for further details. spawn C:\\Users\\dogan\\.conda\\envs\\workshop-qml\\python.exe ENOENT"
     ]
    }
   ],
   "source": [
    "#Neural network classification\n",
    "n_iterations = 50\n",
    "spsa_opt = SPSA(maxiter=n_iterations, callback=callback)\n",
    "loss_recorder = []\n",
    "initial_point = np.random.random((len(ansatz.parameters),))\n",
    "vqc = NeuralNetworkClassifier(neural_network=qnn,\n",
    "                            loss=CrossEntropyLoss(),\n",
    "                            one_hot=True,\n",
    "                            optimizer=spsa_opt,\n",
    "                            initial_point=initial_point)\n",
    "\n",
    "x_train_norm = np.array([x/np.linalg.norm(x) for x in x_train])     #Normalizes data set. Why is it necessary? We may want to ask.\n",
    "\n",
    "vqc = vqc.fit(x_train_norm, y_train_1h)"
   ]
  },
  {
   "cell_type": "code",
   "execution_count": null,
   "metadata": {},
   "outputs": [],
   "source": [
    "score_train = vqc.score(x_train, y_train_1h)\n",
    "score_test = vqc.score(x_test, y_test_1h)\n",
    "print(f'Score on the training set: {score_train}')\n",
    "print(f'Score on the test set {score_test}')"
   ]
  }
 ],
 "metadata": {
  "interpreter": {
   "hash": "57f31b2200777642aea020fa74f53154a2e06f90d78a310d8c10a2b6a9068ce8"
  },
  "kernelspec": {
   "display_name": "Python 3.9.7 64-bit ('workshop-qml': conda)",
   "language": "python",
   "name": "python3"
  },
  "language_info": {
   "name": "python",
   "version": "3.9.7"
  },
  "orig_nbformat": 4
 },
 "nbformat": 4,
 "nbformat_minor": 2
}
