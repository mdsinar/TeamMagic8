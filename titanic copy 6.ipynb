{
 "cells": [
  {
   "cell_type": "code",
   "execution_count": 12,
   "id": "2b31707e",
   "metadata": {},
   "outputs": [],
   "source": [
    "# import sys\n",
    "# !{sys.executable} -m pip install matplotlib\n",
    "# !{sys.executable} -m pip install numpy\n",
    "# !{sys.executable} -m pip install pandas\n",
    "# !{sys.executable} -m pip install sklearn\n",
    "# !{sys.executable} -m pip install qiskit\n",
    "# !{sys.executable} -m pip install qiskit_machine_learning\n",
    "# !{sys.executable} -m pip install pylatexenc"
   ]
  },
  {
   "cell_type": "code",
   "execution_count": 13,
   "id": "044685e2",
   "metadata": {},
   "outputs": [],
   "source": [
    "import matplotlib.pyplot as plt\n",
    "import numpy as np\n",
    "import pandas as pd\n",
    "from sklearn import  preprocessing\n",
    "from sklearn.model_selection import train_test_split\n",
    "import warnings\n",
    "warnings.filterwarnings('ignore')\n",
    "\n",
    "from qiskit import providers\n",
    "from qiskit import Aer\n",
    "from qiskit.algorithms.optimizers import SPSA, COBYLA, GradientDescent\n",
    "from qiskit.circuit.library import TwoLocal, ZZFeatureMap, ZFeatureMap\n",
    "from qiskit.opflow import StateFn, Gradient, I, Z\n",
    "from qiskit.utils import QuantumInstance\n",
    "\n",
    "from qiskit_machine_learning.algorithms.classifiers import NeuralNetworkClassifier\n",
    "from qiskit_machine_learning.neural_networks import CircuitQNN, OpflowQNN\n",
    "from qiskit_machine_learning.utils.loss_functions import L2Loss, CrossEntropyLoss"
   ]
  },
  {
   "cell_type": "code",
   "execution_count": 14,
   "id": "85be94fe",
   "metadata": {},
   "outputs": [
    {
     "data": {
      "text/html": [
       "<div>\n",
       "<style scoped>\n",
       "    .dataframe tbody tr th:only-of-type {\n",
       "        vertical-align: middle;\n",
       "    }\n",
       "\n",
       "    .dataframe tbody tr th {\n",
       "        vertical-align: top;\n",
       "    }\n",
       "\n",
       "    .dataframe thead th {\n",
       "        text-align: right;\n",
       "    }\n",
       "</style>\n",
       "<table border=\"1\" class=\"dataframe\">\n",
       "  <thead>\n",
       "    <tr style=\"text-align: right;\">\n",
       "      <th></th>\n",
       "      <th>PassengerId</th>\n",
       "      <th>Survived</th>\n",
       "      <th>Pclass</th>\n",
       "      <th>Name</th>\n",
       "      <th>Sex</th>\n",
       "      <th>Age</th>\n",
       "      <th>SibSp</th>\n",
       "      <th>Parch</th>\n",
       "      <th>Ticket</th>\n",
       "      <th>Fare</th>\n",
       "      <th>Cabin</th>\n",
       "      <th>Embarked</th>\n",
       "    </tr>\n",
       "  </thead>\n",
       "  <tbody>\n",
       "    <tr>\n",
       "      <th>0</th>\n",
       "      <td>1</td>\n",
       "      <td>0</td>\n",
       "      <td>3</td>\n",
       "      <td>Braund, Mr. Owen Harris</td>\n",
       "      <td>male</td>\n",
       "      <td>22.0</td>\n",
       "      <td>1</td>\n",
       "      <td>0</td>\n",
       "      <td>A/5 21171</td>\n",
       "      <td>7.2500</td>\n",
       "      <td>NaN</td>\n",
       "      <td>S</td>\n",
       "    </tr>\n",
       "    <tr>\n",
       "      <th>1</th>\n",
       "      <td>2</td>\n",
       "      <td>1</td>\n",
       "      <td>1</td>\n",
       "      <td>Cumings, Mrs. John Bradley (Florence Briggs Th...</td>\n",
       "      <td>female</td>\n",
       "      <td>38.0</td>\n",
       "      <td>1</td>\n",
       "      <td>0</td>\n",
       "      <td>PC 17599</td>\n",
       "      <td>71.2833</td>\n",
       "      <td>C85</td>\n",
       "      <td>C</td>\n",
       "    </tr>\n",
       "    <tr>\n",
       "      <th>2</th>\n",
       "      <td>3</td>\n",
       "      <td>1</td>\n",
       "      <td>3</td>\n",
       "      <td>Heikkinen, Miss. Laina</td>\n",
       "      <td>female</td>\n",
       "      <td>26.0</td>\n",
       "      <td>0</td>\n",
       "      <td>0</td>\n",
       "      <td>STON/O2. 3101282</td>\n",
       "      <td>7.9250</td>\n",
       "      <td>NaN</td>\n",
       "      <td>S</td>\n",
       "    </tr>\n",
       "    <tr>\n",
       "      <th>3</th>\n",
       "      <td>4</td>\n",
       "      <td>1</td>\n",
       "      <td>1</td>\n",
       "      <td>Futrelle, Mrs. Jacques Heath (Lily May Peel)</td>\n",
       "      <td>female</td>\n",
       "      <td>35.0</td>\n",
       "      <td>1</td>\n",
       "      <td>0</td>\n",
       "      <td>113803</td>\n",
       "      <td>53.1000</td>\n",
       "      <td>C123</td>\n",
       "      <td>S</td>\n",
       "    </tr>\n",
       "    <tr>\n",
       "      <th>4</th>\n",
       "      <td>5</td>\n",
       "      <td>0</td>\n",
       "      <td>3</td>\n",
       "      <td>Allen, Mr. William Henry</td>\n",
       "      <td>male</td>\n",
       "      <td>35.0</td>\n",
       "      <td>0</td>\n",
       "      <td>0</td>\n",
       "      <td>373450</td>\n",
       "      <td>8.0500</td>\n",
       "      <td>NaN</td>\n",
       "      <td>S</td>\n",
       "    </tr>\n",
       "    <tr>\n",
       "      <th>5</th>\n",
       "      <td>6</td>\n",
       "      <td>0</td>\n",
       "      <td>3</td>\n",
       "      <td>Moran, Mr. James</td>\n",
       "      <td>male</td>\n",
       "      <td>NaN</td>\n",
       "      <td>0</td>\n",
       "      <td>0</td>\n",
       "      <td>330877</td>\n",
       "      <td>8.4583</td>\n",
       "      <td>NaN</td>\n",
       "      <td>Q</td>\n",
       "    </tr>\n",
       "    <tr>\n",
       "      <th>6</th>\n",
       "      <td>7</td>\n",
       "      <td>0</td>\n",
       "      <td>1</td>\n",
       "      <td>McCarthy, Mr. Timothy J</td>\n",
       "      <td>male</td>\n",
       "      <td>54.0</td>\n",
       "      <td>0</td>\n",
       "      <td>0</td>\n",
       "      <td>17463</td>\n",
       "      <td>51.8625</td>\n",
       "      <td>E46</td>\n",
       "      <td>S</td>\n",
       "    </tr>\n",
       "    <tr>\n",
       "      <th>7</th>\n",
       "      <td>8</td>\n",
       "      <td>0</td>\n",
       "      <td>3</td>\n",
       "      <td>Palsson, Master. Gosta Leonard</td>\n",
       "      <td>male</td>\n",
       "      <td>2.0</td>\n",
       "      <td>3</td>\n",
       "      <td>1</td>\n",
       "      <td>349909</td>\n",
       "      <td>21.0750</td>\n",
       "      <td>NaN</td>\n",
       "      <td>S</td>\n",
       "    </tr>\n",
       "  </tbody>\n",
       "</table>\n",
       "</div>"
      ],
      "text/plain": [
       "   PassengerId  Survived  Pclass  \\\n",
       "0            1         0       3   \n",
       "1            2         1       1   \n",
       "2            3         1       3   \n",
       "3            4         1       1   \n",
       "4            5         0       3   \n",
       "5            6         0       3   \n",
       "6            7         0       1   \n",
       "7            8         0       3   \n",
       "\n",
       "                                                Name     Sex   Age  SibSp  \\\n",
       "0                            Braund, Mr. Owen Harris    male  22.0      1   \n",
       "1  Cumings, Mrs. John Bradley (Florence Briggs Th...  female  38.0      1   \n",
       "2                             Heikkinen, Miss. Laina  female  26.0      0   \n",
       "3       Futrelle, Mrs. Jacques Heath (Lily May Peel)  female  35.0      1   \n",
       "4                           Allen, Mr. William Henry    male  35.0      0   \n",
       "5                                   Moran, Mr. James    male   NaN      0   \n",
       "6                            McCarthy, Mr. Timothy J    male  54.0      0   \n",
       "7                     Palsson, Master. Gosta Leonard    male   2.0      3   \n",
       "\n",
       "   Parch            Ticket     Fare Cabin Embarked  \n",
       "0      0         A/5 21171   7.2500   NaN        S  \n",
       "1      0          PC 17599  71.2833   C85        C  \n",
       "2      0  STON/O2. 3101282   7.9250   NaN        S  \n",
       "3      0            113803  53.1000  C123        S  \n",
       "4      0            373450   8.0500   NaN        S  \n",
       "5      0            330877   8.4583   NaN        Q  \n",
       "6      0             17463  51.8625   E46        S  \n",
       "7      1            349909  21.0750   NaN        S  "
      ]
     },
     "execution_count": 14,
     "metadata": {},
     "output_type": "execute_result"
    }
   ],
   "source": [
    "df = pd.read_csv('titanic_dataset/train.csv') # read csv file as pandas data frame\n",
    "df.head(8)"
   ]
  },
  {
   "cell_type": "code",
   "execution_count": 15,
   "id": "8f480d9d",
   "metadata": {},
   "outputs": [
    {
     "data": {
      "text/plain": [
       "['PassengerId',\n",
       " 'Survived',\n",
       " 'Pclass',\n",
       " 'Name',\n",
       " 'Sex',\n",
       " 'Age',\n",
       " 'SibSp',\n",
       " 'Parch',\n",
       " 'Ticket',\n",
       " 'Fare',\n",
       " 'Cabin',\n",
       " 'Embarked']"
      ]
     },
     "execution_count": 15,
     "metadata": {},
     "output_type": "execute_result"
    }
   ],
   "source": [
    "feature_name_list = list(df)\n",
    "list(feature_name_list)"
   ]
  },
  {
   "cell_type": "code",
   "execution_count": 16,
   "id": "3944cb5f",
   "metadata": {},
   "outputs": [
    {
     "data": {
      "text/html": [
       "<div>\n",
       "<style scoped>\n",
       "    .dataframe tbody tr th:only-of-type {\n",
       "        vertical-align: middle;\n",
       "    }\n",
       "\n",
       "    .dataframe tbody tr th {\n",
       "        vertical-align: top;\n",
       "    }\n",
       "\n",
       "    .dataframe thead th {\n",
       "        text-align: right;\n",
       "    }\n",
       "</style>\n",
       "<table border=\"1\" class=\"dataframe\">\n",
       "  <thead>\n",
       "    <tr style=\"text-align: right;\">\n",
       "      <th></th>\n",
       "      <th>Pclass</th>\n",
       "      <th>Survived</th>\n",
       "      <th>Age</th>\n",
       "      <th>Sex</th>\n",
       "      <th>Parch</th>\n",
       "    </tr>\n",
       "  </thead>\n",
       "  <tbody>\n",
       "    <tr>\n",
       "      <th>0</th>\n",
       "      <td>3</td>\n",
       "      <td>0</td>\n",
       "      <td>22.0</td>\n",
       "      <td>male</td>\n",
       "      <td>0</td>\n",
       "    </tr>\n",
       "    <tr>\n",
       "      <th>1</th>\n",
       "      <td>1</td>\n",
       "      <td>1</td>\n",
       "      <td>38.0</td>\n",
       "      <td>female</td>\n",
       "      <td>0</td>\n",
       "    </tr>\n",
       "    <tr>\n",
       "      <th>2</th>\n",
       "      <td>3</td>\n",
       "      <td>1</td>\n",
       "      <td>26.0</td>\n",
       "      <td>female</td>\n",
       "      <td>0</td>\n",
       "    </tr>\n",
       "    <tr>\n",
       "      <th>3</th>\n",
       "      <td>1</td>\n",
       "      <td>1</td>\n",
       "      <td>35.0</td>\n",
       "      <td>female</td>\n",
       "      <td>0</td>\n",
       "    </tr>\n",
       "    <tr>\n",
       "      <th>4</th>\n",
       "      <td>3</td>\n",
       "      <td>0</td>\n",
       "      <td>35.0</td>\n",
       "      <td>male</td>\n",
       "      <td>0</td>\n",
       "    </tr>\n",
       "    <tr>\n",
       "      <th>...</th>\n",
       "      <td>...</td>\n",
       "      <td>...</td>\n",
       "      <td>...</td>\n",
       "      <td>...</td>\n",
       "      <td>...</td>\n",
       "    </tr>\n",
       "    <tr>\n",
       "      <th>886</th>\n",
       "      <td>2</td>\n",
       "      <td>0</td>\n",
       "      <td>27.0</td>\n",
       "      <td>male</td>\n",
       "      <td>0</td>\n",
       "    </tr>\n",
       "    <tr>\n",
       "      <th>887</th>\n",
       "      <td>1</td>\n",
       "      <td>1</td>\n",
       "      <td>19.0</td>\n",
       "      <td>female</td>\n",
       "      <td>0</td>\n",
       "    </tr>\n",
       "    <tr>\n",
       "      <th>888</th>\n",
       "      <td>3</td>\n",
       "      <td>0</td>\n",
       "      <td>NaN</td>\n",
       "      <td>female</td>\n",
       "      <td>2</td>\n",
       "    </tr>\n",
       "    <tr>\n",
       "      <th>889</th>\n",
       "      <td>1</td>\n",
       "      <td>1</td>\n",
       "      <td>26.0</td>\n",
       "      <td>male</td>\n",
       "      <td>0</td>\n",
       "    </tr>\n",
       "    <tr>\n",
       "      <th>890</th>\n",
       "      <td>3</td>\n",
       "      <td>0</td>\n",
       "      <td>32.0</td>\n",
       "      <td>male</td>\n",
       "      <td>0</td>\n",
       "    </tr>\n",
       "  </tbody>\n",
       "</table>\n",
       "<p>891 rows × 5 columns</p>\n",
       "</div>"
      ],
      "text/plain": [
       "     Pclass  Survived   Age     Sex  Parch\n",
       "0         3         0  22.0    male      0\n",
       "1         1         1  38.0  female      0\n",
       "2         3         1  26.0  female      0\n",
       "3         1         1  35.0  female      0\n",
       "4         3         0  35.0    male      0\n",
       "..      ...       ...   ...     ...    ...\n",
       "886       2         0  27.0    male      0\n",
       "887       1         1  19.0  female      0\n",
       "888       3         0   NaN  female      2\n",
       "889       1         1  26.0    male      0\n",
       "890       3         0  32.0    male      0\n",
       "\n",
       "[891 rows x 5 columns]"
      ]
     },
     "execution_count": 16,
     "metadata": {},
     "output_type": "execute_result"
    }
   ],
   "source": [
    "df_selected = df[[ 'Pclass', 'Survived','Age', 'Sex', 'Parch']] # Choose desired features and labels(classes)\n",
    "df_selected"
   ]
  },
  {
   "cell_type": "code",
   "execution_count": 17,
   "id": "1a382aca",
   "metadata": {},
   "outputs": [
    {
     "name": "stdout",
     "output_type": "stream",
     "text": [
      "Total empty values in the Dataset : 177\n"
     ]
    }
   ],
   "source": [
    "print('Total empty values in the Dataset :', df_selected.isnull().sum().sum())\n",
    "clean_data = df_selected.dropna()\n",
    "#print('Total empty values in the Dataset :', clean_data.isnull().sum().sum())"
   ]
  },
  {
   "cell_type": "code",
   "execution_count": 18,
   "id": "a6d083e6",
   "metadata": {},
   "outputs": [
    {
     "name": "stdout",
     "output_type": "stream",
     "text": [
      "Unique values in Pclass : 3\n",
      "Unique values in Survived : 2\n",
      "Unique values in Age : 88\n",
      "Unique values in Sex : 2\n",
      "Unique values in Parch : 7\n"
     ]
    }
   ],
   "source": [
    "for col in clean_data.columns:\n",
    "        print('Unique values in {} :'.format(col),len(clean_data[col].unique()))"
   ]
  },
  {
   "cell_type": "code",
   "execution_count": 19,
   "id": "048b16f5",
   "metadata": {},
   "outputs": [
    {
     "data": {
      "text/html": [
       "<div>\n",
       "<style scoped>\n",
       "    .dataframe tbody tr th:only-of-type {\n",
       "        vertical-align: middle;\n",
       "    }\n",
       "\n",
       "    .dataframe tbody tr th {\n",
       "        vertical-align: top;\n",
       "    }\n",
       "\n",
       "    .dataframe thead th {\n",
       "        text-align: right;\n",
       "    }\n",
       "</style>\n",
       "<table border=\"1\" class=\"dataframe\">\n",
       "  <thead>\n",
       "    <tr style=\"text-align: right;\">\n",
       "      <th></th>\n",
       "      <th>Pclass</th>\n",
       "      <th>Survived</th>\n",
       "      <th>Age</th>\n",
       "      <th>Sex</th>\n",
       "      <th>Parch</th>\n",
       "    </tr>\n",
       "  </thead>\n",
       "  <tbody>\n",
       "    <tr>\n",
       "      <th>0</th>\n",
       "      <td>3</td>\n",
       "      <td>0</td>\n",
       "      <td>22.0</td>\n",
       "      <td>male</td>\n",
       "      <td>0</td>\n",
       "    </tr>\n",
       "    <tr>\n",
       "      <th>1</th>\n",
       "      <td>1</td>\n",
       "      <td>1</td>\n",
       "      <td>38.0</td>\n",
       "      <td>female</td>\n",
       "      <td>0</td>\n",
       "    </tr>\n",
       "    <tr>\n",
       "      <th>2</th>\n",
       "      <td>3</td>\n",
       "      <td>1</td>\n",
       "      <td>26.0</td>\n",
       "      <td>female</td>\n",
       "      <td>0</td>\n",
       "    </tr>\n",
       "    <tr>\n",
       "      <th>3</th>\n",
       "      <td>1</td>\n",
       "      <td>1</td>\n",
       "      <td>35.0</td>\n",
       "      <td>female</td>\n",
       "      <td>0</td>\n",
       "    </tr>\n",
       "    <tr>\n",
       "      <th>4</th>\n",
       "      <td>3</td>\n",
       "      <td>0</td>\n",
       "      <td>35.0</td>\n",
       "      <td>male</td>\n",
       "      <td>0</td>\n",
       "    </tr>\n",
       "    <tr>\n",
       "      <th>...</th>\n",
       "      <td>...</td>\n",
       "      <td>...</td>\n",
       "      <td>...</td>\n",
       "      <td>...</td>\n",
       "      <td>...</td>\n",
       "    </tr>\n",
       "    <tr>\n",
       "      <th>885</th>\n",
       "      <td>3</td>\n",
       "      <td>0</td>\n",
       "      <td>39.0</td>\n",
       "      <td>female</td>\n",
       "      <td>5</td>\n",
       "    </tr>\n",
       "    <tr>\n",
       "      <th>886</th>\n",
       "      <td>2</td>\n",
       "      <td>0</td>\n",
       "      <td>27.0</td>\n",
       "      <td>male</td>\n",
       "      <td>0</td>\n",
       "    </tr>\n",
       "    <tr>\n",
       "      <th>887</th>\n",
       "      <td>1</td>\n",
       "      <td>1</td>\n",
       "      <td>19.0</td>\n",
       "      <td>female</td>\n",
       "      <td>0</td>\n",
       "    </tr>\n",
       "    <tr>\n",
       "      <th>889</th>\n",
       "      <td>1</td>\n",
       "      <td>1</td>\n",
       "      <td>26.0</td>\n",
       "      <td>male</td>\n",
       "      <td>0</td>\n",
       "    </tr>\n",
       "    <tr>\n",
       "      <th>890</th>\n",
       "      <td>3</td>\n",
       "      <td>0</td>\n",
       "      <td>32.0</td>\n",
       "      <td>male</td>\n",
       "      <td>0</td>\n",
       "    </tr>\n",
       "  </tbody>\n",
       "</table>\n",
       "<p>714 rows × 5 columns</p>\n",
       "</div>"
      ],
      "text/plain": [
       "     Pclass  Survived   Age     Sex  Parch\n",
       "0         3         0  22.0    male      0\n",
       "1         1         1  38.0  female      0\n",
       "2         3         1  26.0  female      0\n",
       "3         1         1  35.0  female      0\n",
       "4         3         0  35.0    male      0\n",
       "..      ...       ...   ...     ...    ...\n",
       "885       3         0  39.0  female      5\n",
       "886       2         0  27.0    male      0\n",
       "887       1         1  19.0  female      0\n",
       "889       1         1  26.0    male      0\n",
       "890       3         0  32.0    male      0\n",
       "\n",
       "[714 rows x 5 columns]"
      ]
     },
     "execution_count": 19,
     "metadata": {},
     "output_type": "execute_result"
    }
   ],
   "source": [
    "clean_data"
   ]
  },
  {
   "cell_type": "code",
   "execution_count": 20,
   "id": "0bd66ab1",
   "metadata": {},
   "outputs": [
    {
     "name": "stdout",
     "output_type": "stream",
     "text": [
      "Unique values in updated Gender column : ['male' 'female']\n",
      "Range of column Age : (0.42, 80.0)\n",
      "Unique values in parent/child column : [0 1 2 5 3 4 6]\n",
      "Unique values in passenger class column : [3 1 2]\n"
     ]
    }
   ],
   "source": [
    "print('Unique values in updated Gender column :', clean_data.Sex.unique())\n",
    "print('Range of column Age :', (clean_data.Age.min(), clean_data.Age.max()))\n",
    "print('Unique values in parent/child column :', clean_data.Parch.unique())\n",
    "print('Unique values in passenger class column :', clean_data.Pclass.unique())\n",
    "\n",
    "clean_data['Sex'].replace(to_replace = 'male', value = 0, inplace=True)\n",
    "clean_data['Sex'].replace(to_replace = 'female', value = 1, inplace=True)"
   ]
  },
  {
   "cell_type": "code",
   "execution_count": 21,
   "id": "45357e6d",
   "metadata": {},
   "outputs": [],
   "source": [
    "# Define features and labels (that contin class information)\n",
    "test_ratio = 0.2\n",
    "seed = 1436\n",
    "np.random.seed(seed)\n",
    "x_original = np.array(clean_data.drop('Survived', axis =1)) # X contains all feature values as array\n",
    "y = np.array(clean_data.Survived) # y contains class values as array\n",
    "x = preprocessing.normalize(x_original, axis=0)\n",
    "x_train, x_test, y_train, y_test = train_test_split(x, y, test_size=test_ratio, random_state=seed, stratify=y)"
   ]
  },
  {
   "cell_type": "code",
   "execution_count": 22,
   "id": "65c42557",
   "metadata": {},
   "outputs": [
    {
     "data": {
      "image/png": "[encoded data removed]",
      "text/plain": [
       "<Figure size 1591.6x565.88 with 1 Axes>"
      ]
     },
     "execution_count": 22,
     "metadata": {},
     "output_type": "execute_result"
    }
   ],
   "source": [
    "feature_dim = x.shape[1]\n",
    "feature_map_rep = 2\n",
    "ent = 'linear'\n",
    "\n",
    "fmap_zz = ZZFeatureMap(feature_dimension=feature_dim, reps=feature_map_rep, entanglement=ent)\n",
    "fmap_zz.decompose().draw('mpl', scale=1)"
   ]
  },
  {
   "cell_type": "code",
   "execution_count": 23,
   "id": "bf1bdffe",
   "metadata": {},
   "outputs": [
    {
     "data": {
      "image/png": "[encoded data removed]",
      "text/plain": [
       "<Figure size 1591.6x565.88 with 1 Axes>"
      ]
     },
     "execution_count": 23,
     "metadata": {},
     "output_type": "execute_result"
    }
   ],
   "source": [
    "fmap_zz.assign_parameters({k:v for (k,v) in zip(fmap_zz.parameters, x_train[0])}).decompose().draw('mpl', scale=1)"
   ]
  },
  {
   "cell_type": "code",
   "execution_count": 24,
   "id": "e0f1d75f",
   "metadata": {},
   "outputs": [
    {
     "data": {
      "image/png": "[encoded data removed]",
      "text/plain": [
       "<Figure size 748.797x264.88 with 1 Axes>"
      ]
     },
     "execution_count": 24,
     "metadata": {},
     "output_type": "execute_result"
    }
   ],
   "source": [
    "rotations = ['ry', 'rz']\n",
    "var_form_rep = 2\n",
    "\n",
    "\n",
    "ansatz_tl = TwoLocal(num_qubits=feature_dim, rotation_blocks=rotations, entanglement_blocks='cx', entanglement=ent, reps=var_form_rep)\n",
    "ansatz_tl.decompose().draw('mpl', scale=1)"
   ]
  },
  {
   "cell_type": "code",
   "execution_count": 25,
   "id": "369a6068",
   "metadata": {},
   "outputs": [
    {
     "data": {
      "image/png": "[encoded data removed]",
      "text/plain": [
       "<Figure size 1591.6x565.88 with 1 Axes>"
      ]
     },
     "execution_count": 25,
     "metadata": {},
     "output_type": "execute_result"
    }
   ],
   "source": [
    "weights = np.random.random(len(ansatz_tl.parameters))\n",
    "ansatz_tl.assign_parameters({k:v for (k,v) in zip(ansatz_tl.parameters, weights)}).decompose().draw('mpl', scale=1)"
   ]
  },
  {
   "cell_type": "code",
   "execution_count": 26,
   "id": "ed1424c8",
   "metadata": {},
   "outputs": [
    {
     "data": {
      "image/png": "[encoded data removed]",
      "text/plain": [
       "<Figure size 808.997x264.88 with 1 Axes>"
      ]
     },
     "execution_count": 26,
     "metadata": {},
     "output_type": "execute_result"
    }
   ],
   "source": [
    "var_circuit = fmap_zz.compose(ansatz_tl)\n",
    "var_circuit.draw('mpl')"
   ]
  },
  {
   "cell_type": "code",
   "execution_count": 27,
   "id": "942a4200",
   "metadata": {},
   "outputs": [],
   "source": [
    "def parity(x, num_classes):\n",
    "    return f\"{x:b}\".count(\"1\") % num_classes\n",
    "\n",
    "def one_qubit_binary(x):\n",
    "    return x % 2"
   ]
  },
  {
   "cell_type": "code",
   "execution_count": 28,
   "id": "c64f15ba",
   "metadata": {},
   "outputs": [],
   "source": [
    "# providers.aer.StatevectorSimulator().available_devices()"
   ]
  },
  {
   "cell_type": "code",
   "execution_count": 29,
   "id": "9c192715",
   "metadata": {},
   "outputs": [],
   "source": [
    "# statevec_sim = providers.aer.StatevectorSimulator(max_parallel_threads = 16, max_parallel_experiments=0)"
   ]
  },
  {
   "cell_type": "code",
   "execution_count": 30,
   "id": "bcf116c9",
   "metadata": {},
   "outputs": [],
   "source": [
    "qasm_sim = Aer.get_backend('qasm_simulator')\n",
    "qinst = QuantumInstance(qasm_sim, 2048, seed_simulator=seed)"
   ]
  },
  {
   "cell_type": "code",
   "execution_count": 31,
   "id": "90d96430",
   "metadata": {},
   "outputs": [],
   "source": [
    "num_classes = 2\n",
    "qnn = CircuitQNN(circuit=var_circuit,\n",
    "                 input_params=fmap_zz.parameters,  # if your embedding strategy is not a parametrized circuit \n",
    "                                                   # (e.g. amplitude encoding) you will have to do some extra work!\n",
    "                 weight_params=ansatz_tl.parameters,  # if you train your embedding as well, the trainable\n",
    "                                                      # parameters of the embedding must be added\n",
    "                 interpret=one_qubit_binary,\n",
    "                 output_shape=num_classes,\n",
    "                 gradient=None,\n",
    "                 quantum_instance=qinst)"
   ]
  },
  {
   "cell_type": "code",
   "execution_count": 32,
   "id": "a6cfbadd",
   "metadata": {},
   "outputs": [
    {
     "name": "stdout",
     "output_type": "stream",
     "text": [
      "(1, 2)\n"
     ]
    },
    {
     "data": {
      "text/plain": [
       "array([[0.49658203, 0.50341797]])"
      ]
     },
     "execution_count": 32,
     "metadata": {},
     "output_type": "execute_result"
    }
   ],
   "source": [
    "# The result of the neural network of the shape (output_shape).\n",
    "output = qnn.forward(x_train[0], weights)\n",
    "print(output.shape)\n",
    "output"
   ]
  },
  {
   "cell_type": "code",
   "execution_count": 33,
   "id": "2823e429",
   "metadata": {},
   "outputs": [
    {
     "data": {
      "text/plain": [
       "array([[[-2.09716797e-01,  1.41601562e-02, -4.66308594e-02,\n",
       "          9.52148438e-03,  6.64062500e-02,  7.32421875e-04,\n",
       "          3.61328125e-02, -5.61523438e-03, -3.34960938e-01,\n",
       "         -8.08105469e-02,  3.90625000e-03, -1.44042969e-02,\n",
       "          1.05224609e-01,  1.63085938e-01, -1.56250000e-02,\n",
       "          4.88281250e-04, -3.96728516e-01,  5.12695312e-03,\n",
       "          2.44140625e-04,  7.32421875e-04,  1.73339844e-02,\n",
       "         -4.88281250e-03,  2.19726563e-03, -6.34765625e-03],\n",
       "        [ 2.09716797e-01, -1.41601562e-02,  4.66308594e-02,\n",
       "         -9.52148438e-03, -6.64062500e-02, -7.32421875e-04,\n",
       "         -3.61328125e-02,  5.61523438e-03,  3.34960938e-01,\n",
       "          8.08105469e-02, -3.90625000e-03,  1.44042969e-02,\n",
       "         -1.05224609e-01, -1.63085938e-01,  1.56250000e-02,\n",
       "         -4.88281250e-04,  3.96728516e-01, -5.12695312e-03,\n",
       "         -2.44140625e-04, -7.32421875e-04, -1.73339844e-02,\n",
       "          4.88281250e-03, -2.19726562e-03,  6.34765625e-03]]])"
      ]
     },
     "execution_count": 33,
     "metadata": {},
     "output_type": "execute_result"
    }
   ],
   "source": [
    "# The result of the neural network of the backward pass, i.e., a tuple with the gradients\n",
    "# for input and weights of shape (output_shape, num_input) and\n",
    "# (output_shape, num_weights), respectively.\n",
    "_, update = qnn.backward(x_train[0], weights)\n",
    "update"
   ]
  },
  {
   "cell_type": "code",
   "execution_count": 34,
   "id": "323e5ec5",
   "metadata": {},
   "outputs": [],
   "source": [
    "def get_one_hot_encoding(y):\n",
    "    unique_labels = np.unique(y, axis=0)\n",
    "    y_one_hot = [(np.eye(len(unique_labels))[np.where(unique_labels == y_i)]).reshape(len(unique_labels)) for y_i in y]\n",
    "\n",
    "    return np.array(y_one_hot)\n",
    "\n",
    "y_train_1h = get_one_hot_encoding(y_train)\n",
    "y_test_1h = get_one_hot_encoding(y_test)"
   ]
  },
  {
   "cell_type": "code",
   "execution_count": 35,
   "id": "db1930de",
   "metadata": {},
   "outputs": [],
   "source": [
    "def callback(nfev, params, fval, stepsize, accepted=None):\n",
    "    \"\"\"\n",
    "    Can be used for SPSA and GradientDescent optimizers\n",
    "    nfev: the number of function evals\n",
    "    params: the current parameters\n",
    "    fval: the current function value\n",
    "    stepsize: size of the update step\n",
    "    accepted: whether the step was accepted (not used for )\n",
    "    \"\"\"\n",
    "    global loss_recorder\n",
    "\n",
    "    loss_recorder.append(fval)\n",
    "    print(f'{nfev} - {fval}')"
   ]
  },
  {
   "cell_type": "code",
   "execution_count": 36,
   "id": "82cffd56",
   "metadata": {},
   "outputs": [
    {
     "name": "stdout",
     "output_type": "stream",
     "text": [
      "3 - 567.5372143566308\n",
      "6 - 567.4987529244509\n",
      "9 - 566.4700931293128\n",
      "12 - 555.274327713539\n",
      "15 - 555.685433216802\n",
      "18 - 635.600264081773\n",
      "21 - 583.2116582384306\n",
      "24 - 561.9735872037943\n",
      "27 - 558.0095369545573\n",
      "30 - 555.0015569005632\n",
      "33 - 555.2432797699043\n",
      "36 - 555.0201309954407\n",
      "39 - 554.9786710858426\n",
      "42 - 554.6302688372087\n",
      "45 - 552.8218244577722\n",
      "48 - 552.2858551190076\n",
      "51 - 556.8733916577813\n",
      "54 - 556.2214146497927\n",
      "57 - 548.0511550602895\n",
      "60 - 547.4127662359816\n",
      "63 - 545.7649127664363\n",
      "66 - 541.616476367085\n",
      "69 - 543.5536989561268\n",
      "72 - 542.016065787293\n",
      "75 - 541.9449895649782\n",
      "78 - 542.1005050182171\n",
      "81 - 541.8466553225871\n",
      "84 - 540.03010442155\n",
      "87 - 540.3926753858203\n",
      "90 - 540.0000234825739\n",
      "93 - 538.1060305252226\n",
      "96 - 537.0947148149519\n",
      "99 - 535.3903329878342\n",
      "102 - 533.5345259129269\n",
      "105 - 533.4524009379043\n",
      "108 - 532.8214544403816\n",
      "111 - 533.8178270569254\n",
      "114 - 533.0876922969032\n",
      "117 - 532.985927001213\n",
      "120 - 532.5048360707367\n",
      "123 - 529.462637738221\n",
      "126 - 529.4928541977426\n",
      "129 - 528.8117807275244\n",
      "132 - 528.73720169954\n",
      "135 - 528.6775511031024\n",
      "138 - 527.85283845063\n",
      "141 - 524.8265706614611\n",
      "144 - 524.8215972805879\n",
      "147 - 525.0107920267496\n",
      "150 - 524.3499981442544\n"
     ]
    }
   ],
   "source": [
    "max_itr = 50\n",
    "spsa_opt = SPSA(maxiter=max_itr, callback=callback)\n",
    "loss_recorder = []\n",
    "initial_point = np.random.random((len(ansatz_tl.parameters),))\n",
    "vqc = NeuralNetworkClassifier(neural_network=qnn,\n",
    "                              loss=CrossEntropyLoss(),\n",
    "                              one_hot=True,\n",
    "                              optimizer=spsa_opt,\n",
    "                              initial_point=initial_point)\n",
    "\n",
    "\n",
    "# x_train_norm = np.array([x/np.linalg.norm(x) for x in x_train])\n",
    "# x_test_norm = np.array([x/np.linalg.norm(x) for x in x_test])\n",
    "\n",
    "vqc = vqc.fit(x_train, y_train_1h)"
   ]
  },
  {
   "cell_type": "code",
   "execution_count": 37,
   "id": "8de8380f",
   "metadata": {},
   "outputs": [
    {
     "name": "stdout",
     "output_type": "stream",
     "text": [
      "Score on the train set 0.7180385288966725\n",
      "Score on the test set 0.6783216783216783\n"
     ]
    }
   ],
   "source": [
    "score_train = vqc.score(x_train, y_train_1h)\n",
    "score_test = vqc.score(x_test, y_test_1h)\n",
    "print(f'Score on the train set {score_train}')\n",
    "print(f'Score on the test set {score_test}')"
   ]
  },
  {
   "cell_type": "code",
   "execution_count": 38,
   "id": "0523b39f",
   "metadata": {},
   "outputs": [
    {
     "data": {
      "text/plain": [
       "[<matplotlib.lines.Line2D at 0x1228bba0f40>]"
      ]
     },
     "execution_count": 38,
     "metadata": {},
     "output_type": "execute_result"
    },
    {
     "data": {
      "image/png": "[encoded data removed]",
      "text/plain": [
       "<Figure size 432x288 with 1 Axes>"
      ]
     },
     "metadata": {
      "needs_background": "light"
     },
     "output_type": "display_data"
    }
   ],
   "source": [
    "plt.plot(loss_recorder)"
   ]
  }
 ],
 "metadata": {
  "interpreter": {
   "hash": "57f31b2200777642aea020fa74f53154a2e06f90d78a310d8c10a2b6a9068ce8"
  },
  "kernelspec": {
   "display_name": "Python 3 (ipykernel)",
   "language": "python",
   "name": "python3"
  },
  "language_info": {
   "codemirror_mode": {
    "name": "ipython",
    "version": 3
   },
   "file_extension": ".py",
   "mimetype": "text/x-python",
   "name": "python",
   "nbconvert_exporter": "python",
   "pygments_lexer": "ipython3",
   "version": "3.9.7"
  }
 },
 "nbformat": 4,
 "nbformat_minor": 5
}
