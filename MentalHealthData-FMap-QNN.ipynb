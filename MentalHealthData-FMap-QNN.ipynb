{
 "cells": [
  {
   "cell_type": "code",
   "execution_count": 1,
   "metadata": {},
   "outputs": [],
   "source": [
    "#Extracts data from CSV file\n",
    "#Creates paramterized feature map and ansatz\n",
    "#Utilizes quantum neural network for training and SPSA for optimization\n",
    "\n",
    "from cProfile import label\n",
    "from turtle import color\n",
    "import numpy as np\n",
    "import math\n",
    "import matplotlib.pyplot as plt\n",
    "\n",
    "from qiskit import Aer, QuantumCircuit, assemble\n",
    "from qiskit.circuit import ParameterVector, Parameter\n",
    "from qiskit.utils import QuantumInstance\n",
    "from qiskit.algorithms.optimizers import SPSA\n",
    "from qiskit.circuit.library import ZFeatureMap, ZZFeatureMap, PauliFeatureMap, TwoLocal\n",
    "#from qiskit_machine_learning.kernels import QuantumKernel\n",
    "from qiskit_machine_learning.neural_networks import CircuitQNN, OpflowQNN\n",
    "from qiskit_machine_learning.utils.loss_functions import L2Loss, CrossEntropyLoss\n",
    "from qiskit_machine_learning.algorithms.classifiers import NeuralNetworkClassifier\n",
    "\n",
    "from sklearn.model_selection import train_test_split\n",
    "from sklearn.svm import SVC\n",
    "from sympy import rotations"
   ]
  },
  {
   "cell_type": "code",
   "execution_count": null,
   "metadata": {},
   "outputs": [],
   "source": []
  }
 ],
 "metadata": {
  "interpreter": {
   "hash": "57f31b2200777642aea020fa74f53154a2e06f90d78a310d8c10a2b6a9068ce8"
  },
  "kernelspec": {
   "display_name": "Python 3.9.7 64-bit ('workshop-qml': conda)",
   "language": "python",
   "name": "python3"
  },
  "language_info": {
   "codemirror_mode": {
    "name": "ipython",
    "version": 3
   },
   "file_extension": ".py",
   "mimetype": "text/x-python",
   "name": "python",
   "nbconvert_exporter": "python",
   "pygments_lexer": "ipython3",
   "version": "3.9.7"
  },
  "orig_nbformat": 4
 },
 "nbformat": 4,
 "nbformat_minor": 2
}
