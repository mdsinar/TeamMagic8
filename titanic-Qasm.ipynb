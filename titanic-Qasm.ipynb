{
 "cells": [
  {
   "cell_type": "code",
   "execution_count": 2,
   "id": "044685e2",
   "metadata": {},
   "outputs": [],
   "source": [
    "import matplotlib.pyplot as plt\n",
    "import numpy as np\n",
    "import pandas as pd\n",
    "from sklearn import  preprocessing\n",
    "from sklearn.model_selection import train_test_split\n",
    "import warnings\n",
    "warnings.filterwarnings('ignore')\n",
    "\n",
    "from qiskit import Aer\n",
    "from qiskit.algorithms.optimizers import SPSA, COBYLA, GradientDescent\n",
    "from qiskit.circuit.library import TwoLocal, ZZFeatureMap, ZFeatureMap, PauliFeatureMap\n",
    "from qiskit.opflow import StateFn, Gradient, I, Z\n",
    "from qiskit.utils import QuantumInstance\n",
    "\n",
    "from qiskit_machine_learning.algorithms.classifiers import NeuralNetworkClassifier\n",
    "from qiskit_machine_learning.neural_networks import CircuitQNN, OpflowQNN\n",
    "from qiskit_machine_learning.utils.loss_functions import L2Loss, CrossEntropyLoss"
   ]
  },
  {
   "cell_type": "code",
   "execution_count": 3,
   "id": "85be94fe",
   "metadata": {},
   "outputs": [
    {
     "data": {
      "text/html": [
       "<div>\n",
       "<style scoped>\n",
       "    .dataframe tbody tr th:only-of-type {\n",
       "        vertical-align: middle;\n",
       "    }\n",
       "\n",
       "    .dataframe tbody tr th {\n",
       "        vertical-align: top;\n",
       "    }\n",
       "\n",
       "    .dataframe thead th {\n",
       "        text-align: right;\n",
       "    }\n",
       "</style>\n",
       "<table border=\"1\" class=\"dataframe\">\n",
       "  <thead>\n",
       "    <tr style=\"text-align: right;\">\n",
       "      <th></th>\n",
       "      <th>PassengerId</th>\n",
       "      <th>Survived</th>\n",
       "      <th>Pclass</th>\n",
       "      <th>Name</th>\n",
       "      <th>Sex</th>\n",
       "      <th>Age</th>\n",
       "      <th>SibSp</th>\n",
       "      <th>Parch</th>\n",
       "      <th>Ticket</th>\n",
       "      <th>Fare</th>\n",
       "      <th>Cabin</th>\n",
       "      <th>Embarked</th>\n",
       "    </tr>\n",
       "  </thead>\n",
       "  <tbody>\n",
       "    <tr>\n",
       "      <th>0</th>\n",
       "      <td>1</td>\n",
       "      <td>0</td>\n",
       "      <td>3</td>\n",
       "      <td>Braund, Mr. Owen Harris</td>\n",
       "      <td>male</td>\n",
       "      <td>22.0</td>\n",
       "      <td>1</td>\n",
       "      <td>0</td>\n",
       "      <td>A/5 21171</td>\n",
       "      <td>7.2500</td>\n",
       "      <td>NaN</td>\n",
       "      <td>S</td>\n",
       "    </tr>\n",
       "    <tr>\n",
       "      <th>1</th>\n",
       "      <td>2</td>\n",
       "      <td>1</td>\n",
       "      <td>1</td>\n",
       "      <td>Cumings, Mrs. John Bradley (Florence Briggs Th...</td>\n",
       "      <td>female</td>\n",
       "      <td>38.0</td>\n",
       "      <td>1</td>\n",
       "      <td>0</td>\n",
       "      <td>PC 17599</td>\n",
       "      <td>71.2833</td>\n",
       "      <td>C85</td>\n",
       "      <td>C</td>\n",
       "    </tr>\n",
       "    <tr>\n",
       "      <th>2</th>\n",
       "      <td>3</td>\n",
       "      <td>1</td>\n",
       "      <td>3</td>\n",
       "      <td>Heikkinen, Miss. Laina</td>\n",
       "      <td>female</td>\n",
       "      <td>26.0</td>\n",
       "      <td>0</td>\n",
       "      <td>0</td>\n",
       "      <td>STON/O2. 3101282</td>\n",
       "      <td>7.9250</td>\n",
       "      <td>NaN</td>\n",
       "      <td>S</td>\n",
       "    </tr>\n",
       "    <tr>\n",
       "      <th>3</th>\n",
       "      <td>4</td>\n",
       "      <td>1</td>\n",
       "      <td>1</td>\n",
       "      <td>Futrelle, Mrs. Jacques Heath (Lily May Peel)</td>\n",
       "      <td>female</td>\n",
       "      <td>35.0</td>\n",
       "      <td>1</td>\n",
       "      <td>0</td>\n",
       "      <td>113803</td>\n",
       "      <td>53.1000</td>\n",
       "      <td>C123</td>\n",
       "      <td>S</td>\n",
       "    </tr>\n",
       "    <tr>\n",
       "      <th>4</th>\n",
       "      <td>5</td>\n",
       "      <td>0</td>\n",
       "      <td>3</td>\n",
       "      <td>Allen, Mr. William Henry</td>\n",
       "      <td>male</td>\n",
       "      <td>35.0</td>\n",
       "      <td>0</td>\n",
       "      <td>0</td>\n",
       "      <td>373450</td>\n",
       "      <td>8.0500</td>\n",
       "      <td>NaN</td>\n",
       "      <td>S</td>\n",
       "    </tr>\n",
       "    <tr>\n",
       "      <th>5</th>\n",
       "      <td>6</td>\n",
       "      <td>0</td>\n",
       "      <td>3</td>\n",
       "      <td>Moran, Mr. James</td>\n",
       "      <td>male</td>\n",
       "      <td>NaN</td>\n",
       "      <td>0</td>\n",
       "      <td>0</td>\n",
       "      <td>330877</td>\n",
       "      <td>8.4583</td>\n",
       "      <td>NaN</td>\n",
       "      <td>Q</td>\n",
       "    </tr>\n",
       "    <tr>\n",
       "      <th>6</th>\n",
       "      <td>7</td>\n",
       "      <td>0</td>\n",
       "      <td>1</td>\n",
       "      <td>McCarthy, Mr. Timothy J</td>\n",
       "      <td>male</td>\n",
       "      <td>54.0</td>\n",
       "      <td>0</td>\n",
       "      <td>0</td>\n",
       "      <td>17463</td>\n",
       "      <td>51.8625</td>\n",
       "      <td>E46</td>\n",
       "      <td>S</td>\n",
       "    </tr>\n",
       "    <tr>\n",
       "      <th>7</th>\n",
       "      <td>8</td>\n",
       "      <td>0</td>\n",
       "      <td>3</td>\n",
       "      <td>Palsson, Master. Gosta Leonard</td>\n",
       "      <td>male</td>\n",
       "      <td>2.0</td>\n",
       "      <td>3</td>\n",
       "      <td>1</td>\n",
       "      <td>349909</td>\n",
       "      <td>21.0750</td>\n",
       "      <td>NaN</td>\n",
       "      <td>S</td>\n",
       "    </tr>\n",
       "  </tbody>\n",
       "</table>\n",
       "</div>"
      ],
      "text/plain": [
       "   PassengerId  Survived  Pclass  \\\n",
       "0            1         0       3   \n",
       "1            2         1       1   \n",
       "2            3         1       3   \n",
       "3            4         1       1   \n",
       "4            5         0       3   \n",
       "5            6         0       3   \n",
       "6            7         0       1   \n",
       "7            8         0       3   \n",
       "\n",
       "                                                Name     Sex   Age  SibSp  \\\n",
       "0                            Braund, Mr. Owen Harris    male  22.0      1   \n",
       "1  Cumings, Mrs. John Bradley (Florence Briggs Th...  female  38.0      1   \n",
       "2                             Heikkinen, Miss. Laina  female  26.0      0   \n",
       "3       Futrelle, Mrs. Jacques Heath (Lily May Peel)  female  35.0      1   \n",
       "4                           Allen, Mr. William Henry    male  35.0      0   \n",
       "5                                   Moran, Mr. James    male   NaN      0   \n",
       "6                            McCarthy, Mr. Timothy J    male  54.0      0   \n",
       "7                     Palsson, Master. Gosta Leonard    male   2.0      3   \n",
       "\n",
       "   Parch            Ticket     Fare Cabin Embarked  \n",
       "0      0         A/5 21171   7.2500   NaN        S  \n",
       "1      0          PC 17599  71.2833   C85        C  \n",
       "2      0  STON/O2. 3101282   7.9250   NaN        S  \n",
       "3      0            113803  53.1000  C123        S  \n",
       "4      0            373450   8.0500   NaN        S  \n",
       "5      0            330877   8.4583   NaN        Q  \n",
       "6      0             17463  51.8625   E46        S  \n",
       "7      1            349909  21.0750   NaN        S  "
      ]
     },
     "execution_count": 3,
     "metadata": {},
     "output_type": "execute_result"
    }
   ],
   "source": [
    "df = pd.read_csv('titanic_dataset/train.csv') # read csv file as pandas data frame\n",
    "df.head(8)"
   ]
  },
  {
   "cell_type": "code",
   "execution_count": 4,
   "id": "8f480d9d",
   "metadata": {},
   "outputs": [
    {
     "data": {
      "text/plain": [
       "['PassengerId',\n",
       " 'Survived',\n",
       " 'Pclass',\n",
       " 'Name',\n",
       " 'Sex',\n",
       " 'Age',\n",
       " 'SibSp',\n",
       " 'Parch',\n",
       " 'Ticket',\n",
       " 'Fare',\n",
       " 'Cabin',\n",
       " 'Embarked']"
      ]
     },
     "execution_count": 4,
     "metadata": {},
     "output_type": "execute_result"
    }
   ],
   "source": [
    "feature_name_list = list(df)\n",
    "list(feature_name_list)"
   ]
  },
  {
   "cell_type": "code",
   "execution_count": 5,
   "id": "3944cb5f",
   "metadata": {},
   "outputs": [
    {
     "data": {
      "text/html": [
       "<div>\n",
       "<style scoped>\n",
       "    .dataframe tbody tr th:only-of-type {\n",
       "        vertical-align: middle;\n",
       "    }\n",
       "\n",
       "    .dataframe tbody tr th {\n",
       "        vertical-align: top;\n",
       "    }\n",
       "\n",
       "    .dataframe thead th {\n",
       "        text-align: right;\n",
       "    }\n",
       "</style>\n",
       "<table border=\"1\" class=\"dataframe\">\n",
       "  <thead>\n",
       "    <tr style=\"text-align: right;\">\n",
       "      <th></th>\n",
       "      <th>Pclass</th>\n",
       "      <th>Survived</th>\n",
       "      <th>Age</th>\n",
       "      <th>Sex</th>\n",
       "      <th>Parch</th>\n",
       "    </tr>\n",
       "  </thead>\n",
       "  <tbody>\n",
       "    <tr>\n",
       "      <th>0</th>\n",
       "      <td>3</td>\n",
       "      <td>0</td>\n",
       "      <td>22.0</td>\n",
       "      <td>male</td>\n",
       "      <td>0</td>\n",
       "    </tr>\n",
       "    <tr>\n",
       "      <th>1</th>\n",
       "      <td>1</td>\n",
       "      <td>1</td>\n",
       "      <td>38.0</td>\n",
       "      <td>female</td>\n",
       "      <td>0</td>\n",
       "    </tr>\n",
       "    <tr>\n",
       "      <th>2</th>\n",
       "      <td>3</td>\n",
       "      <td>1</td>\n",
       "      <td>26.0</td>\n",
       "      <td>female</td>\n",
       "      <td>0</td>\n",
       "    </tr>\n",
       "    <tr>\n",
       "      <th>3</th>\n",
       "      <td>1</td>\n",
       "      <td>1</td>\n",
       "      <td>35.0</td>\n",
       "      <td>female</td>\n",
       "      <td>0</td>\n",
       "    </tr>\n",
       "    <tr>\n",
       "      <th>4</th>\n",
       "      <td>3</td>\n",
       "      <td>0</td>\n",
       "      <td>35.0</td>\n",
       "      <td>male</td>\n",
       "      <td>0</td>\n",
       "    </tr>\n",
       "    <tr>\n",
       "      <th>...</th>\n",
       "      <td>...</td>\n",
       "      <td>...</td>\n",
       "      <td>...</td>\n",
       "      <td>...</td>\n",
       "      <td>...</td>\n",
       "    </tr>\n",
       "    <tr>\n",
       "      <th>886</th>\n",
       "      <td>2</td>\n",
       "      <td>0</td>\n",
       "      <td>27.0</td>\n",
       "      <td>male</td>\n",
       "      <td>0</td>\n",
       "    </tr>\n",
       "    <tr>\n",
       "      <th>887</th>\n",
       "      <td>1</td>\n",
       "      <td>1</td>\n",
       "      <td>19.0</td>\n",
       "      <td>female</td>\n",
       "      <td>0</td>\n",
       "    </tr>\n",
       "    <tr>\n",
       "      <th>888</th>\n",
       "      <td>3</td>\n",
       "      <td>0</td>\n",
       "      <td>NaN</td>\n",
       "      <td>female</td>\n",
       "      <td>2</td>\n",
       "    </tr>\n",
       "    <tr>\n",
       "      <th>889</th>\n",
       "      <td>1</td>\n",
       "      <td>1</td>\n",
       "      <td>26.0</td>\n",
       "      <td>male</td>\n",
       "      <td>0</td>\n",
       "    </tr>\n",
       "    <tr>\n",
       "      <th>890</th>\n",
       "      <td>3</td>\n",
       "      <td>0</td>\n",
       "      <td>32.0</td>\n",
       "      <td>male</td>\n",
       "      <td>0</td>\n",
       "    </tr>\n",
       "  </tbody>\n",
       "</table>\n",
       "<p>891 rows × 5 columns</p>\n",
       "</div>"
      ],
      "text/plain": [
       "     Pclass  Survived   Age     Sex  Parch\n",
       "0         3         0  22.0    male      0\n",
       "1         1         1  38.0  female      0\n",
       "2         3         1  26.0  female      0\n",
       "3         1         1  35.0  female      0\n",
       "4         3         0  35.0    male      0\n",
       "..      ...       ...   ...     ...    ...\n",
       "886       2         0  27.0    male      0\n",
       "887       1         1  19.0  female      0\n",
       "888       3         0   NaN  female      2\n",
       "889       1         1  26.0    male      0\n",
       "890       3         0  32.0    male      0\n",
       "\n",
       "[891 rows x 5 columns]"
      ]
     },
     "execution_count": 5,
     "metadata": {},
     "output_type": "execute_result"
    }
   ],
   "source": [
    "df_selected = df[[ 'Pclass', 'Survived','Age', 'Sex', 'Parch']] # Choose desired features and labels(classes)\n",
    "df_selected"
   ]
  },
  {
   "cell_type": "code",
   "execution_count": 6,
   "id": "1a382aca",
   "metadata": {},
   "outputs": [
    {
     "name": "stdout",
     "output_type": "stream",
     "text": [
      "Total empty values in the Dataset : 177\n"
     ]
    }
   ],
   "source": [
    "print('Total empty values in the Dataset :', df_selected.isnull().sum().sum())\n",
    "clean_data = df_selected.dropna()\n",
    "#print('Total empty values in the Dataset :', clean_data.isnull().sum().sum())"
   ]
  },
  {
   "cell_type": "code",
   "execution_count": 7,
   "id": "a6d083e6",
   "metadata": {},
   "outputs": [
    {
     "name": "stdout",
     "output_type": "stream",
     "text": [
      "Unique values in Pclass : 3\n",
      "Unique values in Survived : 2\n",
      "Unique values in Age : 88\n",
      "Unique values in Sex : 2\n",
      "Unique values in Parch : 7\n"
     ]
    }
   ],
   "source": [
    "for col in clean_data.columns:\n",
    "        print('Unique values in {} :'.format(col),len(clean_data[col].unique()))"
   ]
  },
  {
   "cell_type": "code",
   "execution_count": 8,
   "id": "048b16f5",
   "metadata": {},
   "outputs": [
    {
     "data": {
      "text/html": [
       "<div>\n",
       "<style scoped>\n",
       "    .dataframe tbody tr th:only-of-type {\n",
       "        vertical-align: middle;\n",
       "    }\n",
       "\n",
       "    .dataframe tbody tr th {\n",
       "        vertical-align: top;\n",
       "    }\n",
       "\n",
       "    .dataframe thead th {\n",
       "        text-align: right;\n",
       "    }\n",
       "</style>\n",
       "<table border=\"1\" class=\"dataframe\">\n",
       "  <thead>\n",
       "    <tr style=\"text-align: right;\">\n",
       "      <th></th>\n",
       "      <th>Pclass</th>\n",
       "      <th>Survived</th>\n",
       "      <th>Age</th>\n",
       "      <th>Sex</th>\n",
       "      <th>Parch</th>\n",
       "    </tr>\n",
       "  </thead>\n",
       "  <tbody>\n",
       "    <tr>\n",
       "      <th>0</th>\n",
       "      <td>3</td>\n",
       "      <td>0</td>\n",
       "      <td>22.0</td>\n",
       "      <td>male</td>\n",
       "      <td>0</td>\n",
       "    </tr>\n",
       "    <tr>\n",
       "      <th>1</th>\n",
       "      <td>1</td>\n",
       "      <td>1</td>\n",
       "      <td>38.0</td>\n",
       "      <td>female</td>\n",
       "      <td>0</td>\n",
       "    </tr>\n",
       "    <tr>\n",
       "      <th>2</th>\n",
       "      <td>3</td>\n",
       "      <td>1</td>\n",
       "      <td>26.0</td>\n",
       "      <td>female</td>\n",
       "      <td>0</td>\n",
       "    </tr>\n",
       "    <tr>\n",
       "      <th>3</th>\n",
       "      <td>1</td>\n",
       "      <td>1</td>\n",
       "      <td>35.0</td>\n",
       "      <td>female</td>\n",
       "      <td>0</td>\n",
       "    </tr>\n",
       "    <tr>\n",
       "      <th>4</th>\n",
       "      <td>3</td>\n",
       "      <td>0</td>\n",
       "      <td>35.0</td>\n",
       "      <td>male</td>\n",
       "      <td>0</td>\n",
       "    </tr>\n",
       "    <tr>\n",
       "      <th>...</th>\n",
       "      <td>...</td>\n",
       "      <td>...</td>\n",
       "      <td>...</td>\n",
       "      <td>...</td>\n",
       "      <td>...</td>\n",
       "    </tr>\n",
       "    <tr>\n",
       "      <th>885</th>\n",
       "      <td>3</td>\n",
       "      <td>0</td>\n",
       "      <td>39.0</td>\n",
       "      <td>female</td>\n",
       "      <td>5</td>\n",
       "    </tr>\n",
       "    <tr>\n",
       "      <th>886</th>\n",
       "      <td>2</td>\n",
       "      <td>0</td>\n",
       "      <td>27.0</td>\n",
       "      <td>male</td>\n",
       "      <td>0</td>\n",
       "    </tr>\n",
       "    <tr>\n",
       "      <th>887</th>\n",
       "      <td>1</td>\n",
       "      <td>1</td>\n",
       "      <td>19.0</td>\n",
       "      <td>female</td>\n",
       "      <td>0</td>\n",
       "    </tr>\n",
       "    <tr>\n",
       "      <th>889</th>\n",
       "      <td>1</td>\n",
       "      <td>1</td>\n",
       "      <td>26.0</td>\n",
       "      <td>male</td>\n",
       "      <td>0</td>\n",
       "    </tr>\n",
       "    <tr>\n",
       "      <th>890</th>\n",
       "      <td>3</td>\n",
       "      <td>0</td>\n",
       "      <td>32.0</td>\n",
       "      <td>male</td>\n",
       "      <td>0</td>\n",
       "    </tr>\n",
       "  </tbody>\n",
       "</table>\n",
       "<p>714 rows × 5 columns</p>\n",
       "</div>"
      ],
      "text/plain": [
       "     Pclass  Survived   Age     Sex  Parch\n",
       "0         3         0  22.0    male      0\n",
       "1         1         1  38.0  female      0\n",
       "2         3         1  26.0  female      0\n",
       "3         1         1  35.0  female      0\n",
       "4         3         0  35.0    male      0\n",
       "..      ...       ...   ...     ...    ...\n",
       "885       3         0  39.0  female      5\n",
       "886       2         0  27.0    male      0\n",
       "887       1         1  19.0  female      0\n",
       "889       1         1  26.0    male      0\n",
       "890       3         0  32.0    male      0\n",
       "\n",
       "[714 rows x 5 columns]"
      ]
     },
     "execution_count": 8,
     "metadata": {},
     "output_type": "execute_result"
    }
   ],
   "source": [
    "clean_data"
   ]
  },
  {
   "cell_type": "code",
   "execution_count": 9,
   "id": "0bd66ab1",
   "metadata": {},
   "outputs": [
    {
     "name": "stdout",
     "output_type": "stream",
     "text": [
      "Unique values in updated Gender column : ['male' 'female']\n",
      "Range of column Age : (0.42, 80.0)\n",
      "Unique values in parent/child column : [0 1 2 5 3 4 6]\n",
      "Unique values in passenger class column : [3 1 2]\n"
     ]
    }
   ],
   "source": [
    "print('Unique values in updated Gender column :', clean_data.Sex.unique())\n",
    "print('Range of column Age :', (clean_data.Age.min(), clean_data.Age.max()))\n",
    "print('Unique values in parent/child column :', clean_data.Parch.unique())\n",
    "print('Unique values in passenger class column :', clean_data.Pclass.unique())\n",
    "\n",
    "clean_data['Sex'].replace(to_replace = 'male', value = 0, inplace=True)\n",
    "clean_data['Sex'].replace(to_replace = 'female', value = 1, inplace=True)"
   ]
  },
  {
   "cell_type": "code",
   "execution_count": 10,
   "id": "45357e6d",
   "metadata": {},
   "outputs": [],
   "source": [
    "# Define features and labels (that contin class information)\n",
    "test_ratio = 0.2\n",
    "seed = 1430\n",
    "np.random.seed(seed)\n",
    "\n",
    "X = np.array(clean_data.drop('Survived', axis =1)) # X contains all feature values as array\n",
    "y = np.array(clean_data.Survived) # y contains class values as array\n",
    "X = preprocessing.normalize(X, axis=0)\n",
    "x_train, x_test, y_train, y_test = train_test_split(X, y, test_size=test_ratio, random_state=seed, stratify=y)"
   ]
  },
  {
   "cell_type": "code",
   "execution_count": 11,
   "id": "65c42557",
   "metadata": {},
   "outputs": [
    {
     "data": {
      "image/png": "[encoded data removed]",
      "text/plain": [
       "<Figure size 1591.6x565.88 with 1 Axes>"
      ]
     },
     "execution_count": 11,
     "metadata": {},
     "output_type": "execute_result"
    }
   ],
   "source": [
    "feature_dim = X.shape[1]\n",
    "feature_map_rep = 2\n",
    "ent = 'linear'\n",
    "\n",
    "fmap_zz = ZZFeatureMap(feature_dimension=feature_dim, reps=feature_map_rep, entanglement=ent)\n",
    "fmap_zz.decompose().draw('mpl', scale=1)"
   ]
  },
  {
   "cell_type": "code",
   "execution_count": 12,
   "id": "bf1bdffe",
   "metadata": {},
   "outputs": [
    {
     "data": {
      "image/png": "[encoded data removed]",
      "text/plain": [
       "<Figure size 1591.6x565.88 with 1 Axes>"
      ]
     },
     "execution_count": 12,
     "metadata": {},
     "output_type": "execute_result"
    }
   ],
   "source": [
    "fmap_zz.assign_parameters({k:v for (k,v) in zip(fmap_zz.parameters, x_train[0])}).decompose().draw('mpl', scale=1)"
   ]
  },
  {
   "cell_type": "code",
   "execution_count": 13,
   "id": "e0f1d75f",
   "metadata": {},
   "outputs": [
    {
     "data": {
      "image/png": "[encoded data removed]",
      "text/plain": [
       "<Figure size 748.797x264.88 with 1 Axes>"
      ]
     },
     "execution_count": 13,
     "metadata": {},
     "output_type": "execute_result"
    }
   ],
   "source": [
    "rotations = ['ry', 'rz']\n",
    "var_form_rep = 2\n",
    "\n",
    "\n",
    "ansatz_tl = TwoLocal(num_qubits=feature_dim, rotation_blocks=rotations, entanglement_blocks='cx', entanglement=ent, reps=var_form_rep)\n",
    "ansatz_tl.decompose().draw('mpl', scale=1)"
   ]
  },
  {
   "cell_type": "code",
   "execution_count": 14,
   "id": "369a6068",
   "metadata": {},
   "outputs": [
    {
     "data": {
      "image/png": "[encoded data removed]",
      "text/plain": [
       "<Figure size 1591.6x565.88 with 1 Axes>"
      ]
     },
     "execution_count": 14,
     "metadata": {},
     "output_type": "execute_result"
    }
   ],
   "source": [
    "weights = np.random.random(len(ansatz_tl.parameters))\n",
    "ansatz_tl.assign_parameters({k:v for (k,v) in zip(ansatz_tl.parameters, weights)}).decompose().draw('mpl', scale=1)"
   ]
  },
  {
   "cell_type": "code",
   "execution_count": 15,
   "id": "ed1424c8",
   "metadata": {},
   "outputs": [
    {
     "data": {
      "image/png": "[encoded data removed]",
      "text/plain": [
       "<Figure size 808.997x264.88 with 1 Axes>"
      ]
     },
     "execution_count": 15,
     "metadata": {},
     "output_type": "execute_result"
    }
   ],
   "source": [
    "var_circuit = fmap_zz.compose(ansatz_tl)\n",
    "var_circuit.draw('mpl')"
   ]
  },
  {
   "cell_type": "code",
   "execution_count": 16,
   "id": "942a4200",
   "metadata": {},
   "outputs": [],
   "source": [
    "def parity(x, num_classes):\n",
    "    return f\"{x:b}\".count(\"1\") % num_classes\n",
    "\n",
    "def one_qubit_binary(x):\n",
    "    return x % 2"
   ]
  },
  {
   "cell_type": "code",
   "execution_count": 17,
   "id": "bcf116c9",
   "metadata": {},
   "outputs": [],
   "source": [
    "qasm_sim = Aer.get_backend('qasm_simulator')\n",
    "qinst = QuantumInstance(qasm_sim, 4096)"
   ]
  },
  {
   "cell_type": "code",
   "execution_count": 18,
   "id": "90d96430",
   "metadata": {},
   "outputs": [],
   "source": [
    "num_classes = 2\n",
    "qnn = CircuitQNN(circuit=var_circuit,\n",
    "                 input_params=fmap_zz.parameters,  # if your embedding strategy is not a parametrized circuit \n",
    "                                                   # (e.g. amplitude encoding) you will have to do some extra work!\n",
    "                 weight_params=ansatz_tl.parameters,  # if you train your embedding as well, the trainable\n",
    "                                                      # parameters of the embedding must be added\n",
    "                 interpret=one_qubit_binary,\n",
    "                 output_shape=num_classes,\n",
    "                 gradient=None,\n",
    "                 quantum_instance=qinst,\n",
    "                 )"
   ]
  },
  {
   "cell_type": "code",
   "execution_count": 19,
   "id": "a6cfbadd",
   "metadata": {},
   "outputs": [
    {
     "name": "stdout",
     "output_type": "stream",
     "text": [
      "(1, 2)\n"
     ]
    },
    {
     "data": {
      "text/plain": [
       "array([[0.7019043, 0.2980957]])"
      ]
     },
     "execution_count": 19,
     "metadata": {},
     "output_type": "execute_result"
    }
   ],
   "source": [
    "# The result of the neural network of the shape (output_shape).\n",
    "output = qnn.forward(x_train[0], weights)\n",
    "print(output.shape)\n",
    "output"
   ]
  },
  {
   "cell_type": "code",
   "execution_count": 20,
   "id": "2823e429",
   "metadata": {},
   "outputs": [
    {
     "data": {
      "text/plain": [
       "array([[[-0.21191406, -0.00854492, -0.07373047, -0.00170898,\n",
       "         -0.00036621,  0.01550293, -0.03869629, -0.00170898,\n",
       "         -0.3145752 , -0.10388184, -0.00256348, -0.0057373 ,\n",
       "          0.00183105,  0.00830078,  0.00854492,  0.00109863,\n",
       "         -0.27941895,  0.00366211,  0.00219727,  0.00683594,\n",
       "          0.00073242, -0.00305176,  0.00341797,  0.0012207 ],\n",
       "        [ 0.21191406,  0.00854492,  0.07373047,  0.00170898,\n",
       "          0.00036621, -0.01550293,  0.03869629,  0.00170898,\n",
       "          0.3145752 ,  0.10388184,  0.00256348,  0.0057373 ,\n",
       "         -0.00183105, -0.00830078, -0.00854492, -0.00109863,\n",
       "          0.27941895, -0.00366211, -0.00219727, -0.00683594,\n",
       "         -0.00073242,  0.00305176, -0.00341797, -0.0012207 ]]])"
      ]
     },
     "execution_count": 20,
     "metadata": {},
     "output_type": "execute_result"
    }
   ],
   "source": [
    "# The result of the neural network of the backward pass, i.e., a tuple with the gradients\n",
    "# for input and weights of shape (output_shape, num_input) and\n",
    "# (output_shape, num_weights), respectively.\n",
    "_, update = qnn.backward(x_train[0], weights)\n",
    "update"
   ]
  },
  {
   "cell_type": "code",
   "execution_count": 21,
   "id": "323e5ec5",
   "metadata": {},
   "outputs": [],
   "source": [
    "def get_one_hot_encoding(y):\n",
    "    unique_labels = np.unique(y, axis=0)\n",
    "    y_one_hot = [(np.eye(len(unique_labels))[np.where(unique_labels == y_i)]).reshape(len(unique_labels)) for y_i in y]\n",
    "\n",
    "    return np.array(y_one_hot)\n",
    "\n",
    "y_train_1h = get_one_hot_encoding(y_train)\n",
    "y_test_1h = get_one_hot_encoding(y_test)"
   ]
  },
  {
   "cell_type": "code",
   "execution_count": 22,
   "id": "db1930de",
   "metadata": {},
   "outputs": [],
   "source": [
    "def callback(nfev, params, fval, stepsize, accepted=None):\n",
    "    \"\"\"\n",
    "    Can be used for SPSA and GradientDescent optimizers\n",
    "    nfev: the number of function evals\n",
    "    params: the current parameters\n",
    "    fval: the current function value\n",
    "    stepsize: size of the update step\n",
    "    accepted: whether the step was accepted (not used for )\n",
    "    \"\"\"\n",
    "    global loss_recorder\n",
    "\n",
    "    loss_recorder.append(fval)\n",
    "    print(f'{nfev} - {fval}')"
   ]
  },
  {
   "cell_type": "code",
   "execution_count": 23,
   "id": "82cffd56",
   "metadata": {},
   "outputs": [
    {
     "name": "stdout",
     "output_type": "stream",
     "text": [
      "3 - 625.3467323747545\n",
      "6 - 790.4213550113905\n",
      "9 - 694.1611704390941\n",
      "12 - 555.4469470516069\n",
      "15 - 550.767805357719\n",
      "18 - 543.230005456837\n",
      "21 - 542.2776039091132\n",
      "24 - 538.05595341258\n",
      "27 - 506.0616363497819\n",
      "30 - 505.3065763749593\n",
      "33 - 503.44338106742305\n",
      "36 - 503.3601029272479\n",
      "39 - 501.1374010091341\n",
      "42 - 501.34675930142464\n",
      "45 - 498.60930771223815\n",
      "48 - 498.3900349559706\n",
      "51 - 497.1213101440626\n",
      "54 - 494.8886348945361\n",
      "57 - 491.63502281923644\n",
      "60 - 493.2948312301477\n",
      "63 - 492.0486282145297\n",
      "66 - 491.279124127521\n",
      "69 - 478.8409596237909\n",
      "72 - 477.0740773034512\n",
      "75 - 477.238767760929\n",
      "78 - 476.3351179166518\n",
      "81 - 464.5250474603403\n",
      "84 - 463.92612477418356\n",
      "87 - 463.4511447304784\n",
      "90 - 463.335681264278\n",
      "93 - 461.7801876746402\n",
      "96 - 458.8476806125012\n",
      "99 - 457.6549445318959\n",
      "102 - 457.41477676537687\n",
      "105 - 457.3776316630026\n",
      "108 - 456.9520106297141\n",
      "111 - 453.9682874025085\n",
      "114 - 454.2938483808443\n",
      "117 - 454.7647548265306\n",
      "120 - 452.5710571884887\n",
      "123 - 454.16566970906774\n",
      "126 - 453.32465586633975\n",
      "129 - 452.9856046221642\n",
      "132 - 453.6069697099423\n",
      "135 - 452.5842361208471\n",
      "138 - 447.21447528744557\n",
      "141 - 446.82016786997457\n",
      "144 - 445.7336679652344\n",
      "147 - 445.3011159221979\n",
      "150 - 445.2849696384569\n",
      "153 - 444.98667107666284\n",
      "156 - 444.2585501900586\n",
      "159 - 444.68592364195547\n",
      "162 - 443.6784606316977\n",
      "165 - 443.61188809442575\n",
      "168 - 443.62954757880925\n",
      "171 - 442.7698877068374\n",
      "174 - 442.2688868243208\n",
      "177 - 441.54021838924336\n",
      "180 - 441.84901381882116\n",
      "183 - 442.5302809721985\n",
      "186 - 441.2313257004272\n",
      "189 - 440.4681002559571\n",
      "192 - 440.70143595442994\n",
      "195 - 439.67460297806895\n",
      "198 - 438.8868661876351\n",
      "201 - 439.0131428487906\n",
      "204 - 439.59177913494125\n",
      "207 - 436.5954452218515\n",
      "210 - 436.6844916683304\n",
      "213 - 436.234035706191\n",
      "216 - 435.37971101063124\n",
      "219 - 435.6067352309304\n",
      "222 - 434.1747472585063\n",
      "225 - 433.48463639233296\n",
      "228 - 434.50183676876696\n",
      "231 - 434.57581207088964\n",
      "234 - 433.703186448646\n",
      "237 - 433.3671016316543\n",
      "240 - 433.262393645284\n",
      "243 - 433.27363911166447\n",
      "246 - 433.39936737648924\n",
      "249 - 433.3768181254901\n",
      "252 - 433.3913468963427\n",
      "255 - 432.5396095332793\n",
      "258 - 433.5058487333861\n",
      "261 - 432.40368577237086\n",
      "264 - 433.1078672395142\n",
      "267 - 433.4122598912785\n",
      "270 - 432.9336246246314\n",
      "273 - 431.91096709136633\n",
      "276 - 431.6483539719409\n",
      "279 - 431.9465154143494\n",
      "282 - 430.7909241065461\n",
      "285 - 432.5696526282446\n",
      "288 - 430.99998021868635\n",
      "291 - 431.6030338588454\n",
      "294 - 431.43283964457083\n",
      "297 - 431.50895765347957\n",
      "300 - 430.0164925318169\n",
      "303 - 430.8805358976606\n",
      "306 - 432.06088647400054\n",
      "309 - 431.0487781220189\n",
      "312 - 430.06002562250035\n",
      "315 - 430.0817407874625\n",
      "318 - 429.38180461636205\n",
      "321 - 429.1432477659035\n",
      "324 - 430.2334244603608\n",
      "327 - 430.4273975306211\n",
      "330 - 429.9577747126961\n",
      "333 - 430.2255541317364\n",
      "336 - 430.5659849656397\n",
      "339 - 430.22505126222416\n",
      "342 - 430.20257448536887\n",
      "345 - 430.8574604375723\n",
      "348 - 429.78131644389\n",
      "351 - 429.24533133494293\n",
      "354 - 429.9494772238086\n",
      "357 - 429.772177199101\n",
      "360 - 429.0112048240271\n",
      "363 - 428.8068074732052\n",
      "366 - 430.0422892000643\n",
      "369 - 430.0062371318376\n",
      "372 - 428.7882072425339\n",
      "375 - 428.96431466636784\n",
      "378 - 428.82185208028216\n",
      "381 - 428.928265815509\n",
      "384 - 429.32364310136643\n",
      "387 - 428.8736567300239\n",
      "390 - 428.097350418283\n",
      "393 - 429.70779159330647\n",
      "396 - 428.4751570102235\n",
      "399 - 427.8214519570704\n",
      "402 - 428.87513767110823\n",
      "405 - 427.8566126018814\n",
      "408 - 428.6236011010171\n",
      "411 - 429.09057088178804\n",
      "414 - 428.78911678396963\n",
      "417 - 428.6996927792053\n",
      "420 - 428.0019032019433\n",
      "423 - 428.6618084915798\n",
      "426 - 428.2616408251478\n",
      "429 - 428.224438787368\n",
      "432 - 427.7132809634609\n",
      "435 - 428.82285573910315\n",
      "438 - 428.273743140596\n",
      "441 - 427.34512354938045\n",
      "444 - 428.69187122945766\n",
      "447 - 428.70702979042915\n",
      "450 - 428.33116006016724\n",
      "453 - 428.6409167855285\n",
      "456 - 428.2594926665787\n",
      "459 - 428.43386798437706\n",
      "462 - 428.1234319274019\n",
      "465 - 427.9200579119393\n",
      "468 - 426.8927840608625\n",
      "471 - 428.07178862095265\n",
      "474 - 428.37572143790237\n",
      "477 - 427.73831874132736\n",
      "480 - 428.68524342133094\n",
      "483 - 428.098575081077\n",
      "486 - 427.6714190753592\n",
      "489 - 427.4284777893997\n",
      "492 - 427.80006026330886\n",
      "495 - 426.6747987924192\n",
      "498 - 428.3646089587348\n",
      "501 - 427.846633906822\n",
      "504 - 428.22256280601346\n",
      "507 - 428.0461114502756\n",
      "510 - 426.58188955154594\n",
      "513 - 428.107073231092\n",
      "516 - 428.05083436368295\n",
      "519 - 426.690828989102\n",
      "522 - 427.3626448016432\n",
      "525 - 427.2877113068322\n",
      "528 - 427.2042233323299\n",
      "531 - 426.08547461887827\n",
      "534 - 426.9566925645254\n",
      "537 - 427.24625831628276\n",
      "540 - 427.48454327780604\n",
      "543 - 428.157020399449\n",
      "546 - 427.1725582983556\n",
      "549 - 427.5025886133554\n",
      "552 - 427.5264213314762\n",
      "555 - 428.00395117813684\n",
      "558 - 427.0514905016615\n",
      "561 - 427.38622087464717\n",
      "564 - 426.72723624971763\n",
      "567 - 427.71932635297617\n",
      "570 - 428.1107596693356\n",
      "573 - 427.229772127597\n",
      "576 - 427.0823857598033\n",
      "579 - 426.78085109268625\n",
      "582 - 426.00623921004103\n",
      "585 - 427.4349937244676\n",
      "588 - 426.3201613775641\n",
      "591 - 427.05345897924883\n",
      "594 - 425.90656357372654\n",
      "597 - 427.39651505183707\n",
      "600 - 426.80465783039483\n"
     ]
    }
   ],
   "source": [
    "max_itr = 200\n",
    "spsa_opt = SPSA(maxiter=max_itr, callback=callback)\n",
    "loss_recorder = []\n",
    "initial_point = np.random.random((len(ansatz_tl.parameters),))\n",
    "vqc = NeuralNetworkClassifier(neural_network=qnn,\n",
    "                              loss=CrossEntropyLoss(),\n",
    "                              one_hot=True,\n",
    "                              optimizer=spsa_opt,\n",
    "                              initial_point=initial_point,\n",
    "                              )\n",
    "\n",
    "\n",
    "x_train_norm = np.array([x/np.linalg.norm(x) for x in x_train])\n",
    "x_test_norm = np.array([x/np.linalg.norm(x) for x in x_test])\n",
    "\n",
    "vqc = vqc.fit(x_train_norm, y_train_1h)"
   ]
  },
  {
   "cell_type": "code",
   "execution_count": 24,
   "id": "8de8380f",
   "metadata": {},
   "outputs": [
    {
     "name": "stdout",
     "output_type": "stream",
     "text": [
      "Score on the train set 0.7285464098073555\n",
      "Score on the test set 0.7062937062937062\n"
     ]
    }
   ],
   "source": [
    "score_train = vqc.score(x_train_norm, y_train_1h)\n",
    "score_test = vqc.score(x_test_norm, y_test_1h)\n",
    "print(f'Score on the train set {score_train}')\n",
    "print(f'Score on the test set {score_test}')"
   ]
  },
  {
   "cell_type": "code",
   "execution_count": 25,
   "id": "9140aeeb",
   "metadata": {},
   "outputs": [
    {
     "data": {
      "text/plain": [
       "[<matplotlib.lines.Line2D at 0x26ec8521fd0>]"
      ]
     },
     "execution_count": 25,
     "metadata": {},
     "output_type": "execute_result"
    },
    {
     "data": {
      "image/png": "[encoded data removed]",
      "text/plain": [
       "<Figure size 432x288 with 1 Axes>"
      ]
     },
     "metadata": {
      "needs_background": "light"
     },
     "output_type": "display_data"
    }
   ],
   "source": [
    "plt.plot(loss_recorder)"
   ]
  }
 ],
 "metadata": {
  "interpreter": {
   "hash": "57f31b2200777642aea020fa74f53154a2e06f90d78a310d8c10a2b6a9068ce8"
  },
  "kernelspec": {
   "display_name": "Python 3.9.7 ('workshop-qml')",
   "language": "python",
   "name": "python3"
  },
  "language_info": {
   "codemirror_mode": {
    "name": "ipython",
    "version": 3
   },
   "file_extension": ".py",
   "mimetype": "text/x-python",
   "name": "python",
   "nbconvert_exporter": "python",
   "pygments_lexer": "ipython3",
   "version": "3.9.7"
  }
 },
 "nbformat": 4,
 "nbformat_minor": 5
}
