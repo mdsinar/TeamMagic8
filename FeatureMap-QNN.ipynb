{
 "cells": [
  {
   "cell_type": "code",
   "execution_count": 1,
   "metadata": {},
   "outputs": [],
   "source": [
    "#Extracts data from CSV file\n",
    "#Creates paramterized feature map and ansatz\n",
    "#Utilizes quantum neural network for training and SPSA for optimization\n",
    "\n",
    "from cProfile import label\n",
    "from turtle import color\n",
    "import numpy as np\n",
    "import math\n",
    "import matplotlib.pyplot as plt\n",
    "\n",
    "from qiskit import Aer, QuantumCircuit, assemble\n",
    "from qiskit.circuit import ParameterVector, Parameter\n",
    "from qiskit.utils import QuantumInstance\n",
    "from qiskit.algorithms.optimizers import SPSA\n",
    "from qiskit.circuit.library import ZFeatureMap, ZZFeatureMap, PauliFeatureMap, TwoLocal\n",
    "#from qiskit_machine_learning.kernels import QuantumKernel\n",
    "from qiskit_machine_learning.neural_networks import CircuitQNN, OpflowQNN\n",
    "from qiskit_machine_learning.utils.loss_functions import L2Loss, CrossEntropyLoss\n",
    "from qiskit_machine_learning.algorithms.classifiers import NeuralNetworkClassifier\n",
    "\n",
    "from sklearn.model_selection import train_test_split\n",
    "from sklearn.svm import SVC\n",
    "from sympy import rotations"
   ]
  },
  {
   "cell_type": "code",
   "execution_count": 2,
   "metadata": {},
   "outputs": [
    {
     "name": "stdout",
     "output_type": "stream",
     "text": [
      "[[0.03732483 0.38627519]\n",
      " [0.65519238 0.99362903]\n",
      " [0.10597876 0.8311643 ]\n",
      " [0.23238789 0.12613017]\n",
      " [0.96990231 0.68546746]\n",
      " [0.4234473  0.93395587]\n",
      " [0.88289985 0.75412468]\n",
      " [0.72152211 0.5968605 ]\n",
      " [0.45030083 0.40277648]\n",
      " [0.11899276 0.77525695]\n",
      " [0.17125782 0.59777718]\n",
      " [0.29611713 0.51366026]\n",
      " [0.04476299 0.15886721]\n",
      " [0.59214803 0.17822142]\n",
      " [0.5279577  0.78843944]\n",
      " [0.89572022 0.04048163]\n",
      " [0.81996565 0.04054952]\n",
      " [0.95789384 0.39722122]\n",
      " [0.76864477 0.89453389]\n",
      " [0.0646968  0.68828218]]\n",
      "[0 1 1 0 1 1 1 1 0 1 1 1 0 0 1 0 0 0 1 1]\n"
     ]
    }
   ],
   "source": [
    "data_file = open(\"SomeData.csv\")                    #Reads data from csv file\n",
    "data_array = np.loadtxt(data_file, delimiter=\",\")   #Creates array from sample data\n",
    "sample_size, nb_features = data_array.shape         #Gathers sample size and feature size values from data array\n",
    "\n",
    "\n",
    "#Need some sort of a classification in place, so we can \"classifiy\". Update this code to create classification for our data.\n",
    "labels = [0, 1]\n",
    "y = (data_array[:,1] > 0.5).astype(int)     #Assigns label 1 or 0, depending on data value being larger than 0.5 or not.\n",
    "#print(y)\n",
    "\n",
    "x_train, x_test, y_train, y_test = train_test_split(data_array, y, test_size=0.2)   #Splits data_array 80:20 between train and test\n",
    "print(x_test)\n",
    "print(y_test)"
   ]
  },
  {
   "cell_type": "code",
   "execution_count": 3,
   "metadata": {},
   "outputs": [],
   "source": [
    "#Preps the backend and the quantum instance\n",
    "sim = Aer.get_backend('aer_simulator')\n",
    "shots = 8092\n",
    "qinst = QuantumInstance(sim, shots)"
   ]
  },
  {
   "cell_type": "code",
   "execution_count": 4,
   "metadata": {},
   "outputs": [
    {
     "data": {
      "image/png": "[encoded data removed]",
      "text/plain": [
       "<Figure size 650.476x101.136 with 1 Axes>"
      ]
     },
     "execution_count": 4,
     "metadata": {},
     "output_type": "execute_result"
    }
   ],
   "source": [
    "#Puts together the feature map\n",
    "map_z = ZZFeatureMap(feature_dimension=nb_features, reps=2, entanglement='linear')\n",
    "map_z.assign_parameters({k:v for (k,v) in zip(map_z.parameters, x_train[0])}).decompose().draw('mpl', scale=0.7)"
   ]
  },
  {
   "cell_type": "code",
   "execution_count": 5,
   "metadata": {},
   "outputs": [
    {
     "data": {
      "image/png": "[encoded data removed]",
      "text/plain": [
       "<Figure size 903.316x101.136 with 1 Axes>"
      ]
     },
     "execution_count": 5,
     "metadata": {},
     "output_type": "execute_result"
    }
   ],
   "source": [
    "#Puts together the ansatz\n",
    "def get_two_locals(nb_features, rotations, var_form_rep, ent):\n",
    "    return TwoLocal(num_qubits=nb_features, rotation_blocks=rotations, entanglement_blocks='cx', entanglement=ent, reps=var_form_rep)\n",
    "\n",
    "ansatz= get_two_locals(nb_features, ['ry', 'rz'], 2, 'linear')\n",
    "#ansatz.decompose().draw('mpl', scale=0.7)\n",
    "weights = np.random.random(len(ansatz.parameters))  #Assigns weights, it oftens initiated as random numbers\n",
    "ansatz.assign_parameters({k:v for (k,v) in zip(ansatz.parameters, weights)}).decompose().draw('mpl', scale=0.7)"
   ]
  },
  {
   "cell_type": "code",
   "execution_count": 6,
   "metadata": {},
   "outputs": [],
   "source": [
    "#Quantum Neural Network training happens here\n",
    "var_circuit = map_z.compose(ansatz)\n",
    "var_circuit.draw('mpl')\n",
    "#plt.show()\n",
    "\n",
    "def parity(x, num_classes):\n",
    "    return f\"{x:b}\".count(\"1\") % num_classes\n",
    "\n",
    "def one_qubit_binary(x):\n",
    "    return x % 2\n",
    "\n",
    "num_classes = 2\n",
    "qnn = CircuitQNN(circuit = var_circuit,\n",
    "                input_params=map_z.parameters,\n",
    "                weight_params=ansatz.parameters,\n",
    "                interpret=one_qubit_binary,\n",
    "                output_shape=num_classes,\n",
    "                gradient=None,\n",
    "                quantum_instance=qinst)\n",
    "\n",
    "output = qnn.forward(x_train[0], weights)   #Forward pass\n",
    "#print(output.shape)\n",
    "\n",
    "_, update = qnn.backward(x_train[0], weights)   #Backward pass"
   ]
  },
  {
   "cell_type": "code",
   "execution_count": 7,
   "metadata": {},
   "outputs": [],
   "source": [
    "#Training Section\n",
    "\n",
    "#One hot encoding. If you want to know about this encoding, pls google. It is not an arbitrary encoding method, it is used a lot in ML\n",
    "def get_one_hot_encoding(y):\n",
    "    unique_labels = np.unique(y, axis=0)\n",
    "    y_one_hot = [(np.eye(len(unique_labels))[np.where(unique_labels == y_i)]).reshape(len(unique_labels)) for y_i in y]\n",
    "\n",
    "    return np.array(y_one_hot)\n",
    "\n",
    "y_train_1h = get_one_hot_encoding(y_train)\n",
    "y_test_1h = get_one_hot_encoding(y_test)"
   ]
  },
  {
   "cell_type": "code",
   "execution_count": 8,
   "metadata": {},
   "outputs": [],
   "source": [
    "#This function can create a checkpoint in case we hit the optimal point before the maximum iteration is reached. It is unused right now.\n",
    "def callback(nfev, params, fval, stepsize, accepted=None):\n",
    "    global loss_recorder\n",
    "\n",
    "    loss_recorder.append(fval)\n",
    "    print(f'{nfev} - {fval}')"
   ]
  },
  {
   "cell_type": "code",
   "execution_count": 9,
   "metadata": {},
   "outputs": [
    {
     "name": "stdout",
     "output_type": "stream",
     "text": [
      "3 - 75.69223617287838\n",
      "6 - 71.26219875531606\n",
      "9 - 64.5543367555183\n",
      "12 - 64.42708735486977\n",
      "15 - 62.324883993779984\n",
      "18 - 61.66659506792809\n",
      "21 - 61.49048298032925\n",
      "24 - 61.47325488147602\n",
      "27 - 61.28664360127314\n",
      "30 - 61.11788876103023\n",
      "33 - 61.16343717494772\n",
      "36 - 61.18293688078861\n",
      "39 - 60.99020960595246\n",
      "42 - 61.269252328233705\n",
      "45 - 60.68488741190165\n",
      "48 - 61.03288759917053\n",
      "51 - 60.69007358804093\n",
      "54 - 60.565870129265534\n",
      "57 - 60.51745161212631\n",
      "60 - 60.776097478584646\n",
      "63 - 60.59982403235446\n",
      "66 - 60.760218980991176\n",
      "69 - 60.44895973902883\n",
      "72 - 60.77721579096236\n",
      "75 - 60.98727305161756\n",
      "78 - 60.50404840709241\n",
      "81 - 60.49177105870633\n",
      "84 - 60.7120438031738\n",
      "87 - 60.41572071555263\n",
      "90 - 60.87129057929233\n",
      "93 - 60.52217875766495\n",
      "96 - 60.59567562201058\n",
      "99 - 60.554843016442845\n",
      "102 - 60.496561355964964\n",
      "105 - 60.66507872859885\n",
      "108 - 60.45080086776622\n",
      "111 - 60.411260227703174\n",
      "114 - 60.368446043831334\n",
      "117 - 60.497211494084425\n",
      "120 - 60.48645301029107\n",
      "123 - 60.173788811868945\n",
      "126 - 60.31423158345968\n",
      "129 - 60.430518665605454\n",
      "132 - 60.21167459524654\n",
      "135 - 60.12253626849914\n",
      "138 - 60.353570943837155\n",
      "141 - 60.273700687554616\n",
      "144 - 60.23328515046848\n",
      "147 - 60.26429181010202\n",
      "150 - 60.31207229090447\n"
     ]
    }
   ],
   "source": [
    "#Neural network classification\n",
    "n_iterations = 50\n",
    "spsa_opt = SPSA(maxiter=n_iterations, callback=callback)\n",
    "loss_recorder = []\n",
    "initial_point = np.random.random((len(ansatz.parameters),))\n",
    "vqc = NeuralNetworkClassifier(neural_network=qnn,\n",
    "                            loss=CrossEntropyLoss(),\n",
    "                            one_hot=True,\n",
    "                            optimizer=spsa_opt,\n",
    "                            initial_point=initial_point)\n",
    "\n",
    "x_train_norm = np.array([x/np.linalg.norm(x) for x in x_train])     #Normalizes data set. Why is it necessary? We may want to ask.\n",
    "\n",
    "vqc = vqc.fit(x_train_norm, y_train_1h)"
   ]
  },
  {
   "cell_type": "code",
   "execution_count": 10,
   "metadata": {},
   "outputs": [
    {
     "name": "stdout",
     "output_type": "stream",
     "text": [
      "Score on the training set: 0.6375\n",
      "Score on the test set 0.65\n"
     ]
    }
   ],
   "source": [
    "score_train = vqc.score(x_train, y_train_1h)\n",
    "score_test = vqc.score(x_test, y_test_1h)\n",
    "print(f'Score on the training set: {score_train}')\n",
    "print(f'Score on the test set {score_test}')"
   ]
  },
  {
   "cell_type": "code",
   "execution_count": null,
   "metadata": {},
   "outputs": [],
   "source": []
  }
 ],
 "metadata": {
  "interpreter": {
   "hash": "57f31b2200777642aea020fa74f53154a2e06f90d78a310d8c10a2b6a9068ce8"
  },
  "kernelspec": {
   "display_name": "Python 3.9.7 64-bit ('workshop-qml': conda)",
   "language": "python",
   "name": "python3"
  },
  "language_info": {
   "codemirror_mode": {
    "name": "ipython",
    "version": 3
   },
   "file_extension": ".py",
   "mimetype": "text/x-python",
   "name": "python",
   "nbconvert_exporter": "python",
   "pygments_lexer": "ipython3",
   "version": "3.9.7"
  },
  "orig_nbformat": 4
 },
 "nbformat": 4,
 "nbformat_minor": 2
}
